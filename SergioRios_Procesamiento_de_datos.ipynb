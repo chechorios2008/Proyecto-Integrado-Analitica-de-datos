{
 "cells": [
  {
   "cell_type": "markdown",
   "id": "1bf56ffe",
   "metadata": {},
   "source": [
    "<h1> Analítica de Datos Para Ingeniería Software y Datos </h1>\n",
    "<h2> S30 - Evidencia de Aprendizaje 2. Procesamiento de datos del Covid-19 en Colombia (Fase 2) </h2>\n",
    "<h3> Sergio Andres Rios Gomez </h3>\n",
    "<h3> Grupo: PREICA2402B010097 - Docente: Andrés Felipe Palacio</h3>"
   ]
  },
  {
   "cell_type": "code",
   "execution_count": 1,
   "id": "aa661a94",
   "metadata": {},
   "outputs": [],
   "source": [
    "import numpy as np\n",
    "import pandas as pd\n",
    "import matplotlib.pyplot as plt\n",
    "import seaborn as sns\n",
    "from sklearn.preprocessing import OneHotEncoder"
   ]
  },
  {
   "cell_type": "markdown",
   "id": "307cf98a",
   "metadata": {},
   "source": [
    "<h3> 1. Limpieza de datos (data cleaning)</h3>"
   ]
  },
  {
   "cell_type": "markdown",
   "id": "67cf59bb",
   "metadata": {},
   "source": [
    "<p> 1.1 Utiliza value_counts(dropna=False), para visualizar las siguientes variables: Estado, Ubicación del caso, Sexo, Tipo de contagio, Tipo_recuperación, Pertenencia_étnica, Nombre_grupo_étnico. </p>"
   ]
  },
  {
   "cell_type": "code",
   "execution_count": 2,
   "id": "eb945118",
   "metadata": {
    "scrolled": true
   },
   "outputs": [
    {
     "name": "stderr",
     "output_type": "stream",
     "text": [
      "C:\\Users\\chech\\AppData\\Local\\Temp\\ipykernel_16180\\1568021956.py:3: DtypeWarning: Columns (13,14) have mixed types. Specify dtype option on import or set low_memory=False.\n",
      "  data = pd.read_csv(url)\n"
     ]
    }
   ],
   "source": [
    "# URL de los datos\n",
    "url = \"https://www.datos.gov.co/api/views/gt2j-8ykr/rows.csv?accessType=DOWNLOAD&bom=true&format=true\"\n",
    "data = pd.read_csv(url)"
   ]
  },
  {
   "cell_type": "code",
   "execution_count": 3,
   "id": "fa3a7dab",
   "metadata": {},
   "outputs": [
    {
     "data": {
      "text/plain": [
       "Leve         6154791\n",
       "Fallecido     143125\n",
       "leve           50623\n",
       "NaN            41268\n",
       "Moderado        1056\n",
       "Grave            106\n",
       "LEVE               2\n",
       "Name: Estado, dtype: int64"
      ]
     },
     "execution_count": 3,
     "metadata": {},
     "output_type": "execute_result"
    }
   ],
   "source": [
    "# Estado:\n",
    "conteo_estados = data['Estado'].value_counts(dropna=False)\n",
    "conteo_estados"
   ]
  },
  {
   "cell_type": "code",
   "execution_count": 4,
   "id": "144de80a",
   "metadata": {},
   "outputs": [
    {
     "data": {
      "text/plain": [
       "Casa            6177081\n",
       "Fallecido        143125\n",
       "NaN               41268\n",
       "casa              28328\n",
       "Hospital           1056\n",
       "Hospital UCI        106\n",
       "CASA                  7\n",
       "Name: Ubicación del caso, dtype: int64"
      ]
     },
     "execution_count": 4,
     "metadata": {},
     "output_type": "execute_result"
    }
   ],
   "source": [
    "# Ubicación del caso:\n",
    "conteo_ubicacion = data['Ubicación del caso'].value_counts(dropna=False)\n",
    "conteo_ubicacion"
   ]
  },
  {
   "cell_type": "code",
   "execution_count": 5,
   "id": "1d3ab889",
   "metadata": {},
   "outputs": [
    {
     "data": {
      "text/plain": [
       "F    3417087\n",
       "M    2973872\n",
       "f          6\n",
       "m          6\n",
       "Name: Sexo, dtype: int64"
      ]
     },
     "execution_count": 5,
     "metadata": {},
     "output_type": "execute_result"
    }
   ],
   "source": [
    "# Sexo:\n",
    "conteo_sexo = data['Sexo'].value_counts(dropna=False)\n",
    "conteo_sexo"
   ]
  },
  {
   "cell_type": "code",
   "execution_count": 6,
   "id": "707783e6",
   "metadata": {},
   "outputs": [
    {
     "data": {
      "text/plain": [
       "Comunitaria    4447740\n",
       "Relacionado    1939528\n",
       "Importado         3703\n",
       "Name: Tipo de contagio, dtype: int64"
      ]
     },
     "execution_count": 6,
     "metadata": {},
     "output_type": "execute_result"
    }
   ],
   "source": [
    "# Tipo de contagio:\n",
    "conteo_tipo = data['Tipo de contagio'].value_counts(dropna=False)\n",
    "conteo_tipo"
   ]
  },
  {
   "cell_type": "code",
   "execution_count": 7,
   "id": "2641eaf6",
   "metadata": {},
   "outputs": [
    {
     "data": {
      "text/plain": [
       "Tiempo    5274348\n",
       "PCR        933773\n",
       "NaN        182398\n",
       "TIEMPO        452\n",
       "Name: Tipo de recuperación, dtype: int64"
      ]
     },
     "execution_count": 7,
     "metadata": {},
     "output_type": "execute_result"
    }
   ],
   "source": [
    "# Tipo_recuperación:\n",
    "conteo_recuperacion = data['Tipo de recuperación'].value_counts(dropna=False)\n",
    "conteo_recuperacion"
   ]
  },
  {
   "cell_type": "code",
   "execution_count": 8,
   "id": "cd70d731",
   "metadata": {},
   "outputs": [
    {
     "data": {
      "text/plain": [
       "6.0    6166659\n",
       "5.0     137411\n",
       "1.0      84202\n",
       "NaN       2156\n",
       "3.0        405\n",
       "2.0        138\n",
       "Name: Pertenencia étnica, dtype: int64"
      ]
     },
     "execution_count": 8,
     "metadata": {},
     "output_type": "execute_result"
    }
   ],
   "source": [
    "# Pertenencia_étnica:\n",
    "conteo_etnia = data['Pertenencia étnica'].value_counts(dropna=False)\n",
    "conteo_etnia"
   ]
  },
  {
   "cell_type": "code",
   "execution_count": 9,
   "id": "e10c5afa",
   "metadata": {},
   "outputs": [
    {
     "data": {
      "text/plain": [
       "NaN              6307107\n",
       "Por definir        17222\n",
       "Sin Comunidad      12064\n",
       "ZENU                9264\n",
       "PIJAO               4112\n",
       "                  ...   \n",
       "YULA                   1\n",
       "CHARCO CAIMAN          1\n",
       "KAIKAISHI              1\n",
       "TEKIA                  1\n",
       "MASHALERRAIN           1\n",
       "Name: Nombre del grupo étnico, Length: 1888, dtype: int64"
      ]
     },
     "execution_count": 9,
     "metadata": {},
     "output_type": "execute_result"
    }
   ],
   "source": [
    "# Nombre_grupo_étnico:\n",
    "conteo_grupo_etnico = data['Nombre del grupo étnico'].value_counts(dropna=False)\n",
    "conteo_grupo_etnico"
   ]
  },
  {
   "cell_type": "markdown",
   "id": "b55ab8c8",
   "metadata": {},
   "source": [
    "<p> 1.2 Realiza una limpieza de datos de las variables anteriores, haciendo uso de .zip(), .map(), .replace(), .fillna(). </p>"
   ]
  },
  {
   "cell_type": "code",
   "execution_count": 10,
   "id": "f14533d8",
   "metadata": {},
   "outputs": [
    {
     "name": "stdout",
     "output_type": "stream",
     "text": [
      "Otro    6390971\n",
      "Name: Estado, dtype: int64\n"
     ]
    }
   ],
   "source": [
    "# Convertir todos los valores a minúsculas para facilitar la comparación\n",
    "data['Estado'] = data['Estado'].str.lower()\n",
    "\n",
    "# Crear un diccionario para mapear los valores a los valores estándar\n",
    "mapping = {'activo': 'Activo', 'inactivo': 'Inactivo', 'n/a': 'Otro'}\n",
    "\n",
    "# Aplicar el mapeo utilizando .map()\n",
    "data['Estado'] = data['Estado'].map(mapping)\n",
    "\n",
    "data['Estado'] = data['Estado'].fillna('Otro')\n",
    "\n",
    "print(data['Estado'].value_counts())"
   ]
  },
  {
   "cell_type": "markdown",
   "id": "cb3b4326",
   "metadata": {},
   "source": [
    "<p> 1.3 Elimina las siguientes variables del DataFrame utilizando la función 'Del': 'Código_DIVIPOLA, Código_país, Código_departamento' y crea una copia del DataFrame.</p>\n",
    "<p> Reucción del dataframe, descartando las variables que despues del EDA, se identifica que no generan valor.</p>"
   ]
  },
  {
   "cell_type": "code",
   "execution_count": 11,
   "id": "3ffb05c0",
   "metadata": {},
   "outputs": [],
   "source": [
    "df = data[['fecha reporte web', 'Fecha de notificación', 'Nombre departamento', 'Nombre municipio','Edad', \n",
    "           'Unidad de medida de edad', 'Sexo', 'Tipo de contagio', 'Ubicación del caso', 'Estado', 'Recuperado', \n",
    "           'Fecha de inicio de síntomas', 'Fecha de diagnóstico', 'Fecha de recuperación', 'Tipo de recuperación']]"
   ]
  },
  {
   "cell_type": "code",
   "execution_count": 12,
   "id": "24de41c2",
   "metadata": {},
   "outputs": [
    {
     "data": {
      "text/html": [
       "<div>\n",
       "<style scoped>\n",
       "    .dataframe tbody tr th:only-of-type {\n",
       "        vertical-align: middle;\n",
       "    }\n",
       "\n",
       "    .dataframe tbody tr th {\n",
       "        vertical-align: top;\n",
       "    }\n",
       "\n",
       "    .dataframe thead th {\n",
       "        text-align: right;\n",
       "    }\n",
       "</style>\n",
       "<table border=\"1\" class=\"dataframe\">\n",
       "  <thead>\n",
       "    <tr style=\"text-align: right;\">\n",
       "      <th></th>\n",
       "      <th>fecha reporte web</th>\n",
       "      <th>Fecha de notificación</th>\n",
       "      <th>Nombre departamento</th>\n",
       "      <th>Nombre municipio</th>\n",
       "      <th>Edad</th>\n",
       "      <th>Unidad de medida de edad</th>\n",
       "      <th>Sexo</th>\n",
       "      <th>Tipo de contagio</th>\n",
       "      <th>Ubicación del caso</th>\n",
       "      <th>Estado</th>\n",
       "      <th>Recuperado</th>\n",
       "      <th>Fecha de inicio de síntomas</th>\n",
       "      <th>Fecha de diagnóstico</th>\n",
       "      <th>Fecha de recuperación</th>\n",
       "      <th>Tipo de recuperación</th>\n",
       "    </tr>\n",
       "  </thead>\n",
       "  <tbody>\n",
       "    <tr>\n",
       "      <th>0</th>\n",
       "      <td>2020-12-24 00:00:00</td>\n",
       "      <td>2020-12-22 00:00:00</td>\n",
       "      <td>VALLE</td>\n",
       "      <td>CALI</td>\n",
       "      <td>67</td>\n",
       "      <td>1</td>\n",
       "      <td>F</td>\n",
       "      <td>Comunitaria</td>\n",
       "      <td>Casa</td>\n",
       "      <td>Otro</td>\n",
       "      <td>Recuperado</td>\n",
       "      <td>2020-12-21 00:00:00</td>\n",
       "      <td>2020-12-23 00:00:00</td>\n",
       "      <td>2021-01-04 00:00:00</td>\n",
       "      <td>Tiempo</td>\n",
       "    </tr>\n",
       "    <tr>\n",
       "      <th>1</th>\n",
       "      <td>2020-12-24 00:00:00</td>\n",
       "      <td>2020-12-19 00:00:00</td>\n",
       "      <td>VALLE</td>\n",
       "      <td>CALI</td>\n",
       "      <td>66</td>\n",
       "      <td>1</td>\n",
       "      <td>F</td>\n",
       "      <td>Comunitaria</td>\n",
       "      <td>Casa</td>\n",
       "      <td>Otro</td>\n",
       "      <td>Recuperado</td>\n",
       "      <td>2020-12-07 00:00:00</td>\n",
       "      <td>2020-12-23 00:00:00</td>\n",
       "      <td>2020-12-25 00:00:00</td>\n",
       "      <td>Tiempo</td>\n",
       "    </tr>\n",
       "    <tr>\n",
       "      <th>2</th>\n",
       "      <td>2020-12-24 00:00:00</td>\n",
       "      <td>2020-12-19 00:00:00</td>\n",
       "      <td>VALLE</td>\n",
       "      <td>CALI</td>\n",
       "      <td>68</td>\n",
       "      <td>1</td>\n",
       "      <td>F</td>\n",
       "      <td>Comunitaria</td>\n",
       "      <td>Casa</td>\n",
       "      <td>Otro</td>\n",
       "      <td>Recuperado</td>\n",
       "      <td>2020-12-18 00:00:00</td>\n",
       "      <td>2020-12-22 00:00:00</td>\n",
       "      <td>2021-01-01 00:00:00</td>\n",
       "      <td>Tiempo</td>\n",
       "    </tr>\n",
       "  </tbody>\n",
       "</table>\n",
       "</div>"
      ],
      "text/plain": [
       "     fecha reporte web Fecha de notificación Nombre departamento  \\\n",
       "0  2020-12-24 00:00:00   2020-12-22 00:00:00               VALLE   \n",
       "1  2020-12-24 00:00:00   2020-12-19 00:00:00               VALLE   \n",
       "2  2020-12-24 00:00:00   2020-12-19 00:00:00               VALLE   \n",
       "\n",
       "  Nombre municipio  Edad  Unidad de medida de edad Sexo Tipo de contagio  \\\n",
       "0             CALI    67                         1    F      Comunitaria   \n",
       "1             CALI    66                         1    F      Comunitaria   \n",
       "2             CALI    68                         1    F      Comunitaria   \n",
       "\n",
       "  Ubicación del caso Estado  Recuperado Fecha de inicio de síntomas  \\\n",
       "0               Casa   Otro  Recuperado         2020-12-21 00:00:00   \n",
       "1               Casa   Otro  Recuperado         2020-12-07 00:00:00   \n",
       "2               Casa   Otro  Recuperado         2020-12-18 00:00:00   \n",
       "\n",
       "  Fecha de diagnóstico Fecha de recuperación Tipo de recuperación  \n",
       "0  2020-12-23 00:00:00   2021-01-04 00:00:00               Tiempo  \n",
       "1  2020-12-23 00:00:00   2020-12-25 00:00:00               Tiempo  \n",
       "2  2020-12-22 00:00:00   2021-01-01 00:00:00               Tiempo  "
      ]
     },
     "execution_count": 12,
     "metadata": {},
     "output_type": "execute_result"
    }
   ],
   "source": [
    "df.head(3)"
   ]
  },
  {
   "cell_type": "markdown",
   "id": "767687a2",
   "metadata": {},
   "source": [
    "<p> 1.4 Identifica registros duplicados. </p>"
   ]
  },
  {
   "cell_type": "code",
   "execution_count": 13,
   "id": "d4c11b6b",
   "metadata": {
    "scrolled": true
   },
   "outputs": [
    {
     "name": "stdout",
     "output_type": "stream",
     "text": [
      "Número de registros duplicados: 563483\n",
      "Número de registros después de eliminar duplicados: 5827488\n"
     ]
    }
   ],
   "source": [
    "duplicados = df.duplicated()\n",
    "\n",
    "# Contar el número de filas duplicadas\n",
    "num_duplicados = duplicados.sum()\n",
    "print(\"Número de registros duplicados:\", num_duplicados)\n",
    "\n",
    "# Eliminar las filas duplicadas y guardar el resultado en un nuevo DataFrame\n",
    "df_sin_duplicados = df.drop_duplicates()\n",
    "print(\"Número de registros después de eliminar duplicados:\", len(df_sin_duplicados))\n",
    "df = df_sin_duplicados"
   ]
  },
  {
   "cell_type": "markdown",
   "id": "8b890966",
   "metadata": {},
   "source": [
    "<p> 1.5 Identifica valores atípicos.. </p>"
   ]
  },
  {
   "cell_type": "code",
   "execution_count": 14,
   "id": "d2cd9e37",
   "metadata": {},
   "outputs": [
    {
     "data": {
      "image/png": "[encoded data removed]",
      "text/plain": [
       "<Figure size 640x480 with 1 Axes>"
      ]
     },
     "metadata": {},
     "output_type": "display_data"
    }
   ],
   "source": [
    "plt.boxplot(df['Edad'])\n",
    "plt.ylabel('Edad')\n",
    "plt.title('Boxplot de Edad')\n",
    "plt.show()"
   ]
  },
  {
   "cell_type": "markdown",
   "id": "19961d88",
   "metadata": {},
   "source": [
    "<h4> 1.5 Conclusiones. </h4>"
   ]
  },
  {
   "cell_type": "markdown",
   "id": "a6dd0482",
   "metadata": {},
   "source": [
    "<li> El conteo de valores únicos en las variables categóricas como Estado, Ubicación del caso, Sexo, Tipo de contagio, Tipo de recuperación, Pertenencia étnica y Nombre del grupo étnico nos ha permitido obtener una visión general de la diversidad de datos en estas variables.</li>\n",
    "<li> Esta información es fundamental para entender la distribución de los casos y para seleccionar las variables más relevantes para futuros análisis.</li>\n",
    "<li> La identificación de outliers en la variable Edad nos ha permitido detectar valores extremos que podrían influir significativamente en los resultados del análisis </li>\n",
    "\n",
    "\n",
    "<p>El análisis anterior reveló una distribución heterogénea de los casos por estado, con una mayor concentración en las zonas urbanas. Además, se identificó un pequeño número de outliers en la variable edad, correspondientes a pacientes geriátricos. La ausencia de duplicados garantiza la integridad de los datos y la confiabilidad de los resultados posteriores. Estos hallazgos preliminares sugieren la necesidad de realizar análisis más profundos para comprender las características de la población estudiada y las posibles causas de las variaciones observadas.</p>"
   ]
  },
  {
   "cell_type": "markdown",
   "id": "6e7ab842",
   "metadata": {},
   "source": [
    "<h3> 2. Codificación y decodificación de datos</h3>"
   ]
  },
  {
   "cell_type": "markdown",
   "id": "7a088e4b",
   "metadata": {},
   "source": [
    "<p> 2.1 Realiza una decodificación efectiva a las variables de fecha. </p>"
   ]
  },
  {
   "cell_type": "markdown",
   "id": "190c29a6",
   "metadata": {},
   "source": [
    "<p> Convirtiendo los valores FECHA de tipo object a formato DATE. </p>"
   ]
  },
  {
   "cell_type": "code",
   "execution_count": 15,
   "id": "9ff04e23",
   "metadata": {},
   "outputs": [
    {
     "name": "stdout",
     "output_type": "stream",
     "text": [
      "fecha reporte web              datetime64[ns]\n",
      "Fecha de notificación          datetime64[ns]\n",
      "Nombre departamento                    object\n",
      "Nombre municipio                       object\n",
      "Edad                                    int64\n",
      "Unidad de medida de edad                int64\n",
      "Sexo                                   object\n",
      "Tipo de contagio                       object\n",
      "Ubicación del caso                     object\n",
      "Estado                                 object\n",
      "Recuperado                             object\n",
      "Fecha de inicio de síntomas    datetime64[ns]\n",
      "Fecha de diagnóstico           datetime64[ns]\n",
      "Fecha de recuperación          datetime64[ns]\n",
      "Tipo de recuperación                   object\n",
      "dtype: object\n"
     ]
    }
   ],
   "source": [
    "columnas_fechas = ['fecha reporte web', 'Fecha de notificación', 'Fecha de inicio de síntomas',\n",
    "                  'Fecha de diagnóstico', 'Fecha de recuperación']\n",
    "\n",
    "# Convertir las columnas a formato datetime\n",
    "for columna in columnas_fechas:\n",
    "    df[columna] = pd.to_datetime(df[columna], format='%Y-%m-%d %H:%M:%S')\n",
    "\n",
    "print(df.dtypes)"
   ]
  },
  {
   "cell_type": "markdown",
   "id": "739f6c3d",
   "metadata": {},
   "source": [
    "<p> Pasar las variables categoricas  a minuscula </p>"
   ]
  },
  {
   "cell_type": "code",
   "execution_count": 16,
   "id": "2d6ccc1a",
   "metadata": {},
   "outputs": [],
   "source": [
    "columnas_categoricas = ['Nombre departamento', 'Nombre municipio', 'Sexo', 'Tipo de contagio', 'Ubicación del caso', 'Estado', 'Recuperado', 'Tipo de recuperación']\n",
    "\n",
    "# Convertir las columnas a minúsculas\n",
    "for columna in columnas_categoricas:\n",
    "    df[columna] = df[columna].str.lower()"
   ]
  },
  {
   "cell_type": "markdown",
   "id": "234242c0",
   "metadata": {},
   "source": [
    "<p> Procesamiento de datos faltantes.</p> "
   ]
  },
  {
   "cell_type": "code",
   "execution_count": 17,
   "id": "d1a23ce2",
   "metadata": {},
   "outputs": [
    {
     "data": {
      "image/png": "[encoded data removed]",
      "text/plain": [
       "<Figure size 600x400 with 1 Axes>"
      ]
     },
     "metadata": {},
     "output_type": "display_data"
    }
   ],
   "source": [
    "plt.figure(figsize=(6,4))\n",
    "sns.heatmap(df.isnull(), yticklabels=False, cbar=False, cmap='viridis')\n",
    "plt.xlabel('Columnas')\n",
    "plt.ylabel('Filas')\n",
    "plt.title('Mapa de calor de valores nulos')\n",
    "plt.show()"
   ]
  },
  {
   "cell_type": "code",
   "execution_count": 18,
   "id": "c0eccb73",
   "metadata": {},
   "outputs": [],
   "source": [
    "# Eliminamos los registros con valores nulos en la columna 'Ubicación del caso'\n",
    "df.dropna(subset=['Ubicación del caso'], inplace=True)"
   ]
  },
  {
   "cell_type": "code",
   "execution_count": 19,
   "id": "9398a128",
   "metadata": {},
   "outputs": [],
   "source": [
    "# Eliminamos los registros con valores nulos en la columna 'Recuperado'\n",
    "df.dropna(subset=['Recuperado'], inplace=True)"
   ]
  },
  {
   "cell_type": "code",
   "execution_count": 20,
   "id": "0a9e0a57",
   "metadata": {},
   "outputs": [],
   "source": [
    "# Reemplazar los valores nulos en 'Fecha de inicio de síntomas' con los valores de 'Fecha de notificación'\n",
    "df['Fecha de inicio de síntomas'].fillna(df['Fecha de notificación'], inplace=True)"
   ]
  },
  {
   "cell_type": "markdown",
   "id": "f49e6d61",
   "metadata": {},
   "source": [
    "<p> Es normal que las columnas \"Fecha de recuperación\" y \"Tipo de recuperación\" estén vacías cuando un paciente fallece. Esto indica que el paciente no se recuperó de la enfermedad. Para el presente proyecto vamos a trabajar estas dos columnas sin modificaciones. <p>\n",
    "<p> A continuación podemos ver el dataframes sin datos faltantes en las otras columnas.</p>"
   ]
  },
  {
   "cell_type": "code",
   "execution_count": 21,
   "id": "4d3f0476",
   "metadata": {},
   "outputs": [
    {
     "data": {
      "image/png": "[encoded data removed]",
      "text/plain": [
       "<Figure size 600x400 with 1 Axes>"
      ]
     },
     "metadata": {},
     "output_type": "display_data"
    }
   ],
   "source": [
    "plt.figure(figsize=(6,4))\n",
    "sns.heatmap(df.isnull(), yticklabels=False, cbar=False, cmap='viridis')\n",
    "plt.xlabel('Columnas')\n",
    "plt.ylabel('Filas')\n",
    "plt.title('Mapa de calor de valores nulos')\n",
    "plt.show()"
   ]
  },
  {
   "cell_type": "markdown",
   "id": "aa0de49d",
   "metadata": {},
   "source": [
    "<h3> 3. Procesamiento de datos</h3>"
   ]
  },
  {
   "cell_type": "markdown",
   "id": "3ba2b2e1",
   "metadata": {},
   "source": [
    "<p> 3.1 ¿Cuántos fallecidos hay en Colombia mayores de 60 años? </p> "
   ]
  },
  {
   "cell_type": "code",
   "execution_count": 22,
   "id": "e308b3c8",
   "metadata": {},
   "outputs": [
    {
     "name": "stdout",
     "output_type": "stream",
     "text": [
      "Cantidad de fallecidos mayores de 60 en Colombia (Todos los departamentos): 102489\n"
     ]
    }
   ],
   "source": [
    "fallecidos_mayores_60 = df.query('Edad > 60 and Recuperado == \"fallecido\"')\n",
    "cantidad_fallecidos_mayores_60 = len(fallecidos_mayores_60)\n",
    "\n",
    "print(\"Cantidad de fallecidos mayores de 60 en Colombia (Todos los departamentos):\", cantidad_fallecidos_mayores_60)"
   ]
  },
  {
   "cell_type": "markdown",
   "id": "0865047f",
   "metadata": {},
   "source": [
    "<p> 3.2 ¿Cuántos fallecidos hay en Antioquia mayores de 60 años? </p> "
   ]
  },
  {
   "cell_type": "code",
   "execution_count": 23,
   "id": "e0d1144b",
   "metadata": {},
   "outputs": [
    {
     "name": "stdout",
     "output_type": "stream",
     "text": [
      "Cantidad de fallecidos mayores de 60 años en Antioquia: 13708\n"
     ]
    }
   ],
   "source": [
    "fallecidos_mayores_60_antioquia = df.query('`Nombre departamento` == \"antioquia\" & Edad > 60 & Recuperado == \"fallecido\"')\n",
    "\n",
    "cantidad_fallecidos_mayores_60_antioquia = len(fallecidos_mayores_60_antioquia)\n",
    "\n",
    "print(\"Cantidad de fallecidos mayores de 60 años en Antioquia:\", cantidad_fallecidos_mayores_60_antioquia)"
   ]
  },
  {
   "cell_type": "markdown",
   "id": "24da11b4",
   "metadata": {},
   "source": [
    "<p> 3.3 ¿Cuántos fallecidos hay en Medellín mayores de 60 años? </p> "
   ]
  },
  {
   "cell_type": "code",
   "execution_count": 24,
   "id": "ae5d85b9",
   "metadata": {},
   "outputs": [
    {
     "name": "stdout",
     "output_type": "stream",
     "text": [
      "Cantidad de fallecidos mayores de 60 años en Medellín: 7816\n"
     ]
    }
   ],
   "source": [
    "fallecidos_mayores_60_medellin = df.query('`Nombre municipio` == \"medellin\" & Edad > 60 & Recuperado == \"fallecido\"')\n",
    "\n",
    "cantidad_fallecidos_mayores_60_medellin = len(fallecidos_mayores_60_medellin)\n",
    "\n",
    "print(\"Cantidad de fallecidos mayores de 60 años en Medellín:\", cantidad_fallecidos_mayores_60_medellin)"
   ]
  },
  {
   "cell_type": "markdown",
   "id": "d9e886c7",
   "metadata": {},
   "source": [
    "<p> 3.4 Diseña una fórmula para calcular la tasa de letalidad del Covid-19 en Colombia, Antioquia y Medellín. </p> "
   ]
  },
  {
   "cell_type": "code",
   "execution_count": 25,
   "id": "3bf095bd",
   "metadata": {},
   "outputs": [
    {
     "name": "stdout",
     "output_type": "stream",
     "text": [
      "Tasa de letalidad en Colombia: 2.466211475274978 %\n"
     ]
    }
   ],
   "source": [
    "# Total de casos confirmados a nivel nacional\n",
    "total_casos_colombia = len(df)\n",
    "\n",
    "# Total de fallecidos a nivel nacional\n",
    "fallecidos_colombia = len(df[df['Recuperado'] == 'fallecido'])\n",
    "\n",
    "# Tasa de letalidad a nivel nacional\n",
    "tasa_letalidad_colombia = fallecidos_colombia / total_casos_colombia * 100\n",
    "\n",
    "print(\"Tasa de letalidad en Colombia:\", tasa_letalidad_colombia, \"%\")"
   ]
  },
  {
   "cell_type": "code",
   "execution_count": 26,
   "id": "d4adaf93",
   "metadata": {},
   "outputs": [
    {
     "name": "stdout",
     "output_type": "stream",
     "text": [
      "Tasa de letalidad en Antioquia: 2.28871894339139 %\n"
     ]
    }
   ],
   "source": [
    "# Filtrar por Antioquia\n",
    "antioquia_df = df[df['Nombre departamento'] == 'antioquia']\n",
    "\n",
    "# Total de casos confirmados en Antioquia\n",
    "total_casos_antioquia = len(antioquia_df)\n",
    "\n",
    "# Total de fallecidos en Antioquia\n",
    "fallecidos_antioquia = len(antioquia_df[antioquia_df['Recuperado'] == 'fallecido'])\n",
    "\n",
    "# Tasa de letalidad en Antioquia\n",
    "tasa_letalidad_antioquia = fallecidos_antioquia / total_casos_antioquia * 100\n",
    "\n",
    "print(\"Tasa de letalidad en Antioquia:\", tasa_letalidad_antioquia, \"%\")"
   ]
  },
  {
   "cell_type": "code",
   "execution_count": 27,
   "id": "c9a53758",
   "metadata": {},
   "outputs": [
    {
     "name": "stdout",
     "output_type": "stream",
     "text": [
      "Tasa de letalidad en Medellín: 2.410715127738431 %\n"
     ]
    }
   ],
   "source": [
    "# Filtrar por Medellín\n",
    "medellin_df = df[(df['Nombre departamento'] == 'antioquia') & (df['Nombre municipio'] == 'medellin')]\n",
    "\n",
    "# Total de casos confirmados en Medellín\n",
    "total_casos_medellin = len(medellin_df)\n",
    "\n",
    "# Total de fallecidos en Medellín\n",
    "fallecidos_medellin = len(medellin_df[medellin_df['Recuperado'] == 'fallecido'])\n",
    "\n",
    "# Tasa de letalidad en Medellín\n",
    "tasa_letalidad_medellin = fallecidos_medellin / total_casos_medellin * 100\n",
    "\n",
    "print(\"Tasa de letalidad en Medellín:\", tasa_letalidad_medellin, \"%\")"
   ]
  },
  {
   "cell_type": "markdown",
   "id": "560a1285",
   "metadata": {},
   "source": [
    "<p> 3.5 ¿Cuáles son los retrasos promedio entre las fechas? </p> "
   ]
  },
  {
   "cell_type": "code",
   "execution_count": 28,
   "id": "b0f0637b",
   "metadata": {},
   "outputs": [
    {
     "name": "stdout",
     "output_type": "stream",
     "text": [
      "El retraso promedio de días entre la notificación y el diagnóstico es: 4.125351400371219\n"
     ]
    }
   ],
   "source": [
    "# Calculando la diferencia en días entre las dos fechas\n",
    "df['Diferencia_dias'] = (df['Fecha de diagnóstico'] - df['Fecha de notificación']).dt.days\n",
    "\n",
    "# Calculando el promedio de días\n",
    "promedio_dias = df['Diferencia_dias'].mean()\n",
    "\n",
    "print(\"El retraso promedio de días entre la notificación y el diagnóstico es:\", promedio_dias)"
   ]
  },
  {
   "cell_type": "markdown",
   "id": "e0e274a3",
   "metadata": {},
   "source": [
    "<h3> 4. Ingeniería de Características </h3>\n",
    "<p> Feature Selection y Feature Engineering </p>"
   ]
  },
  {
   "cell_type": "code",
   "execution_count": 29,
   "id": "f0f0474e",
   "metadata": {},
   "outputs": [],
   "source": [
    "# Creación de nueva columna con valores Bool para registrar 1 si el pacienete fallecio y 0 si sobrevivió.\n",
    "dw = df.copy()\n",
    "dw['fallecido'] = np.where(dw['Recuperado'] == 'fallecido', 1, 0)"
   ]
  },
  {
   "cell_type": "code",
   "execution_count": 30,
   "id": "5a9dda37",
   "metadata": {},
   "outputs": [],
   "source": [
    "# Nueva columna para calcular los días que pasaron desde el inicio de sintomas hasta que fue atendido.\n",
    "dw['dias_para_atencion'] = (dw['Fecha de diagnóstico'] - dw['Fecha de inicio de síntomas']).dt.days"
   ]
  },
  {
   "cell_type": "code",
   "execution_count": 31,
   "id": "df50254c",
   "metadata": {},
   "outputs": [],
   "source": [
    "# Nueva columna para calcular los días para recuperación.\n",
    "dw['dias_recuperacion'] = (dw['Fecha de recuperación'] - dw['Fecha de inicio de síntomas']).dt.days"
   ]
  },
  {
   "cell_type": "markdown",
   "id": "98490487",
   "metadata": {},
   "source": [
    "<p> Convertir variables categóricas a numéricas es un paso esencial en la preparación de datos para muchos algoritmos de machine learning. Permite que los algoritmos trabajen de manera eficiente y precisa, facilitando la obtención de modelos predictivos robustos. Por este motivo se eliminan las variables que pueden ser complejas para llevar a datos numericos. </p>"
   ]
  },
  {
   "cell_type": "code",
   "execution_count": 32,
   "id": "d9aff5c8",
   "metadata": {},
   "outputs": [],
   "source": [
    "dw = dw[['Edad', 'Sexo', 'Tipo de contagio', 'Ubicación del caso', 'Recuperado', 'Tipo de recuperación', 'fallecido',\n",
    "         'dias_para_atencion', 'dias_recuperacion']]"
   ]
  },
  {
   "cell_type": "code",
   "execution_count": 33,
   "id": "8783dbb1",
   "metadata": {
    "scrolled": true
   },
   "outputs": [
    {
     "data": {
      "text/html": [
       "<div>\n",
       "<style scoped>\n",
       "    .dataframe tbody tr th:only-of-type {\n",
       "        vertical-align: middle;\n",
       "    }\n",
       "\n",
       "    .dataframe tbody tr th {\n",
       "        vertical-align: top;\n",
       "    }\n",
       "\n",
       "    .dataframe thead th {\n",
       "        text-align: right;\n",
       "    }\n",
       "</style>\n",
       "<table border=\"1\" class=\"dataframe\">\n",
       "  <thead>\n",
       "    <tr style=\"text-align: right;\">\n",
       "      <th></th>\n",
       "      <th>Edad</th>\n",
       "      <th>Sexo</th>\n",
       "      <th>Tipo de contagio</th>\n",
       "      <th>Ubicación del caso</th>\n",
       "      <th>Recuperado</th>\n",
       "      <th>Tipo de recuperación</th>\n",
       "      <th>fallecido</th>\n",
       "      <th>dias_para_atencion</th>\n",
       "      <th>dias_recuperacion</th>\n",
       "    </tr>\n",
       "  </thead>\n",
       "  <tbody>\n",
       "    <tr>\n",
       "      <th>0</th>\n",
       "      <td>67</td>\n",
       "      <td>f</td>\n",
       "      <td>comunitaria</td>\n",
       "      <td>casa</td>\n",
       "      <td>recuperado</td>\n",
       "      <td>tiempo</td>\n",
       "      <td>0</td>\n",
       "      <td>2.0</td>\n",
       "      <td>14.0</td>\n",
       "    </tr>\n",
       "    <tr>\n",
       "      <th>1</th>\n",
       "      <td>66</td>\n",
       "      <td>f</td>\n",
       "      <td>comunitaria</td>\n",
       "      <td>casa</td>\n",
       "      <td>recuperado</td>\n",
       "      <td>tiempo</td>\n",
       "      <td>0</td>\n",
       "      <td>16.0</td>\n",
       "      <td>18.0</td>\n",
       "    </tr>\n",
       "    <tr>\n",
       "      <th>2</th>\n",
       "      <td>68</td>\n",
       "      <td>f</td>\n",
       "      <td>comunitaria</td>\n",
       "      <td>casa</td>\n",
       "      <td>recuperado</td>\n",
       "      <td>tiempo</td>\n",
       "      <td>0</td>\n",
       "      <td>4.0</td>\n",
       "      <td>14.0</td>\n",
       "    </tr>\n",
       "    <tr>\n",
       "      <th>3</th>\n",
       "      <td>74</td>\n",
       "      <td>f</td>\n",
       "      <td>comunitaria</td>\n",
       "      <td>fallecido</td>\n",
       "      <td>fallecido</td>\n",
       "      <td>NaN</td>\n",
       "      <td>1</td>\n",
       "      <td>6.0</td>\n",
       "      <td>NaN</td>\n",
       "    </tr>\n",
       "    <tr>\n",
       "      <th>4</th>\n",
       "      <td>65</td>\n",
       "      <td>f</td>\n",
       "      <td>comunitaria</td>\n",
       "      <td>casa</td>\n",
       "      <td>recuperado</td>\n",
       "      <td>tiempo</td>\n",
       "      <td>0</td>\n",
       "      <td>2.0</td>\n",
       "      <td>14.0</td>\n",
       "    </tr>\n",
       "  </tbody>\n",
       "</table>\n",
       "</div>"
      ],
      "text/plain": [
       "   Edad Sexo Tipo de contagio Ubicación del caso  Recuperado  \\\n",
       "0    67    f      comunitaria               casa  recuperado   \n",
       "1    66    f      comunitaria               casa  recuperado   \n",
       "2    68    f      comunitaria               casa  recuperado   \n",
       "3    74    f      comunitaria          fallecido   fallecido   \n",
       "4    65    f      comunitaria               casa  recuperado   \n",
       "\n",
       "  Tipo de recuperación  fallecido  dias_para_atencion  dias_recuperacion  \n",
       "0               tiempo          0                 2.0               14.0  \n",
       "1               tiempo          0                16.0               18.0  \n",
       "2               tiempo          0                 4.0               14.0  \n",
       "3                  NaN          1                 6.0                NaN  \n",
       "4               tiempo          0                 2.0               14.0  "
      ]
     },
     "execution_count": 33,
     "metadata": {},
     "output_type": "execute_result"
    }
   ],
   "source": [
    "dw.head()"
   ]
  },
  {
   "cell_type": "markdown",
   "id": "0e2bb2dd",
   "metadata": {},
   "source": [
    "<h4> One-Hot Encoder </h4>\n",
    "<li> Hace que las variables categóricas sean comprensibles para los algoritmos </li>\n",
    "<li> Evita que el modelo asigne un orden arbitrario a las categorías </li>\n",
    "<li> Permite capturar todas las posibles combinaciones de categorías </li>\n",
    "<p> El One-Hot Encoder es una técnica esencial para preparar datos categóricos para su uso en modelos de machine learning. Al convertir las categorías en representaciones numéricas binarias, permite a los algoritmos capturar la información contenida en estas variables de manera efectiva. </p>"
   ]
  },
  {
   "cell_type": "code",
   "execution_count": 34,
   "id": "ba5f4854",
   "metadata": {},
   "outputs": [
    {
     "name": "stderr",
     "output_type": "stream",
     "text": [
      "C:\\Users\\chech\\anaconda3\\lib\\site-packages\\sklearn\\preprocessing\\_encoders.py:828: FutureWarning: `sparse` was renamed to `sparse_output` in version 1.2 and will be removed in 1.4. `sparse_output` is ignored unless you leave `sparse` to its default value.\n",
      "  warnings.warn(\n"
     ]
    }
   ],
   "source": [
    "# columnas categóricas\n",
    "categorical_cols = ['Sexo', 'Tipo de contagio', 'Ubicación del caso', 'Recuperado', 'Tipo de recuperación']\n",
    "\n",
    "encoder = OneHotEncoder(sparse=False)\n",
    "encoded_data = encoder.fit_transform(dw[categorical_cols])\n",
    "encoded_df = pd.DataFrame(encoded_data, columns=encoder.get_feature_names_out())\n",
    "dw = dw.drop(categorical_cols, axis=1)\n",
    "dw = pd.concat([dw, encoded_df], axis=1)"
   ]
  },
  {
   "cell_type": "code",
   "execution_count": 35,
   "id": "b5d399b2",
   "metadata": {},
   "outputs": [
    {
     "data": {
      "text/html": [
       "<div>\n",
       "<style scoped>\n",
       "    .dataframe tbody tr th:only-of-type {\n",
       "        vertical-align: middle;\n",
       "    }\n",
       "\n",
       "    .dataframe tbody tr th {\n",
       "        vertical-align: top;\n",
       "    }\n",
       "\n",
       "    .dataframe thead th {\n",
       "        text-align: right;\n",
       "    }\n",
       "</style>\n",
       "<table border=\"1\" class=\"dataframe\">\n",
       "  <thead>\n",
       "    <tr style=\"text-align: right;\">\n",
       "      <th></th>\n",
       "      <th>Edad</th>\n",
       "      <th>fallecido</th>\n",
       "      <th>dias_para_atencion</th>\n",
       "      <th>dias_recuperacion</th>\n",
       "      <th>Sexo_f</th>\n",
       "      <th>Sexo_m</th>\n",
       "      <th>Tipo de contagio_comunitaria</th>\n",
       "      <th>Tipo de contagio_importado</th>\n",
       "      <th>Tipo de contagio_relacionado</th>\n",
       "      <th>Ubicación del caso_casa</th>\n",
       "      <th>Ubicación del caso_fallecido</th>\n",
       "      <th>Ubicación del caso_hospital</th>\n",
       "      <th>Ubicación del caso_hospital uci</th>\n",
       "      <th>Recuperado_activo</th>\n",
       "      <th>Recuperado_fallecido</th>\n",
       "      <th>Recuperado_recuperado</th>\n",
       "      <th>Tipo de recuperación_pcr</th>\n",
       "      <th>Tipo de recuperación_tiempo</th>\n",
       "      <th>Tipo de recuperación_nan</th>\n",
       "    </tr>\n",
       "  </thead>\n",
       "  <tbody>\n",
       "    <tr>\n",
       "      <th>0</th>\n",
       "      <td>67.0</td>\n",
       "      <td>0.0</td>\n",
       "      <td>2.0</td>\n",
       "      <td>14.0</td>\n",
       "      <td>1.0</td>\n",
       "      <td>0.0</td>\n",
       "      <td>1.0</td>\n",
       "      <td>0.0</td>\n",
       "      <td>0.0</td>\n",
       "      <td>1.0</td>\n",
       "      <td>0.0</td>\n",
       "      <td>0.0</td>\n",
       "      <td>0.0</td>\n",
       "      <td>0.0</td>\n",
       "      <td>0.0</td>\n",
       "      <td>1.0</td>\n",
       "      <td>0.0</td>\n",
       "      <td>1.0</td>\n",
       "      <td>0.0</td>\n",
       "    </tr>\n",
       "    <tr>\n",
       "      <th>1</th>\n",
       "      <td>66.0</td>\n",
       "      <td>0.0</td>\n",
       "      <td>16.0</td>\n",
       "      <td>18.0</td>\n",
       "      <td>1.0</td>\n",
       "      <td>0.0</td>\n",
       "      <td>1.0</td>\n",
       "      <td>0.0</td>\n",
       "      <td>0.0</td>\n",
       "      <td>1.0</td>\n",
       "      <td>0.0</td>\n",
       "      <td>0.0</td>\n",
       "      <td>0.0</td>\n",
       "      <td>0.0</td>\n",
       "      <td>0.0</td>\n",
       "      <td>1.0</td>\n",
       "      <td>0.0</td>\n",
       "      <td>1.0</td>\n",
       "      <td>0.0</td>\n",
       "    </tr>\n",
       "    <tr>\n",
       "      <th>2</th>\n",
       "      <td>68.0</td>\n",
       "      <td>0.0</td>\n",
       "      <td>4.0</td>\n",
       "      <td>14.0</td>\n",
       "      <td>1.0</td>\n",
       "      <td>0.0</td>\n",
       "      <td>1.0</td>\n",
       "      <td>0.0</td>\n",
       "      <td>0.0</td>\n",
       "      <td>1.0</td>\n",
       "      <td>0.0</td>\n",
       "      <td>0.0</td>\n",
       "      <td>0.0</td>\n",
       "      <td>0.0</td>\n",
       "      <td>0.0</td>\n",
       "      <td>1.0</td>\n",
       "      <td>0.0</td>\n",
       "      <td>1.0</td>\n",
       "      <td>0.0</td>\n",
       "    </tr>\n",
       "    <tr>\n",
       "      <th>3</th>\n",
       "      <td>74.0</td>\n",
       "      <td>1.0</td>\n",
       "      <td>6.0</td>\n",
       "      <td>NaN</td>\n",
       "      <td>1.0</td>\n",
       "      <td>0.0</td>\n",
       "      <td>1.0</td>\n",
       "      <td>0.0</td>\n",
       "      <td>0.0</td>\n",
       "      <td>0.0</td>\n",
       "      <td>1.0</td>\n",
       "      <td>0.0</td>\n",
       "      <td>0.0</td>\n",
       "      <td>0.0</td>\n",
       "      <td>1.0</td>\n",
       "      <td>0.0</td>\n",
       "      <td>0.0</td>\n",
       "      <td>0.0</td>\n",
       "      <td>1.0</td>\n",
       "    </tr>\n",
       "    <tr>\n",
       "      <th>4</th>\n",
       "      <td>65.0</td>\n",
       "      <td>0.0</td>\n",
       "      <td>2.0</td>\n",
       "      <td>14.0</td>\n",
       "      <td>1.0</td>\n",
       "      <td>0.0</td>\n",
       "      <td>1.0</td>\n",
       "      <td>0.0</td>\n",
       "      <td>0.0</td>\n",
       "      <td>1.0</td>\n",
       "      <td>0.0</td>\n",
       "      <td>0.0</td>\n",
       "      <td>0.0</td>\n",
       "      <td>0.0</td>\n",
       "      <td>0.0</td>\n",
       "      <td>1.0</td>\n",
       "      <td>0.0</td>\n",
       "      <td>1.0</td>\n",
       "      <td>0.0</td>\n",
       "    </tr>\n",
       "  </tbody>\n",
       "</table>\n",
       "</div>"
      ],
      "text/plain": [
       "   Edad  fallecido  dias_para_atencion  dias_recuperacion  Sexo_f  Sexo_m  \\\n",
       "0  67.0        0.0                 2.0               14.0     1.0     0.0   \n",
       "1  66.0        0.0                16.0               18.0     1.0     0.0   \n",
       "2  68.0        0.0                 4.0               14.0     1.0     0.0   \n",
       "3  74.0        1.0                 6.0                NaN     1.0     0.0   \n",
       "4  65.0        0.0                 2.0               14.0     1.0     0.0   \n",
       "\n",
       "   Tipo de contagio_comunitaria  Tipo de contagio_importado  \\\n",
       "0                           1.0                         0.0   \n",
       "1                           1.0                         0.0   \n",
       "2                           1.0                         0.0   \n",
       "3                           1.0                         0.0   \n",
       "4                           1.0                         0.0   \n",
       "\n",
       "   Tipo de contagio_relacionado  Ubicación del caso_casa  \\\n",
       "0                           0.0                      1.0   \n",
       "1                           0.0                      1.0   \n",
       "2                           0.0                      1.0   \n",
       "3                           0.0                      0.0   \n",
       "4                           0.0                      1.0   \n",
       "\n",
       "   Ubicación del caso_fallecido  Ubicación del caso_hospital  \\\n",
       "0                           0.0                          0.0   \n",
       "1                           0.0                          0.0   \n",
       "2                           0.0                          0.0   \n",
       "3                           1.0                          0.0   \n",
       "4                           0.0                          0.0   \n",
       "\n",
       "   Ubicación del caso_hospital uci  Recuperado_activo  Recuperado_fallecido  \\\n",
       "0                              0.0                0.0                   0.0   \n",
       "1                              0.0                0.0                   0.0   \n",
       "2                              0.0                0.0                   0.0   \n",
       "3                              0.0                0.0                   1.0   \n",
       "4                              0.0                0.0                   0.0   \n",
       "\n",
       "   Recuperado_recuperado  Tipo de recuperación_pcr  \\\n",
       "0                    1.0                       0.0   \n",
       "1                    1.0                       0.0   \n",
       "2                    1.0                       0.0   \n",
       "3                    0.0                       0.0   \n",
       "4                    1.0                       0.0   \n",
       "\n",
       "   Tipo de recuperación_tiempo  Tipo de recuperación_nan  \n",
       "0                          1.0                       0.0  \n",
       "1                          1.0                       0.0  \n",
       "2                          1.0                       0.0  \n",
       "3                          0.0                       1.0  \n",
       "4                          1.0                       0.0  "
      ]
     },
     "execution_count": 35,
     "metadata": {},
     "output_type": "execute_result"
    }
   ],
   "source": [
    "dw.head()"
   ]
  },
  {
   "cell_type": "code",
   "execution_count": 36,
   "id": "e7808531",
   "metadata": {},
   "outputs": [
    {
     "name": "stdout",
     "output_type": "stream",
     "text": [
      "<class 'pandas.core.frame.DataFrame'>\n",
      "Int64Index: 6243652 entries, 0 to 5786277\n",
      "Data columns (total 19 columns):\n",
      " #   Column                           Dtype  \n",
      "---  ------                           -----  \n",
      " 0   Edad                             float64\n",
      " 1   fallecido                        float64\n",
      " 2   dias_para_atencion               float64\n",
      " 3   dias_recuperacion                float64\n",
      " 4   Sexo_f                           float64\n",
      " 5   Sexo_m                           float64\n",
      " 6   Tipo de contagio_comunitaria     float64\n",
      " 7   Tipo de contagio_importado       float64\n",
      " 8   Tipo de contagio_relacionado     float64\n",
      " 9   Ubicación del caso_casa          float64\n",
      " 10  Ubicación del caso_fallecido     float64\n",
      " 11  Ubicación del caso_hospital      float64\n",
      " 12  Ubicación del caso_hospital uci  float64\n",
      " 13  Recuperado_activo                float64\n",
      " 14  Recuperado_fallecido             float64\n",
      " 15  Recuperado_recuperado            float64\n",
      " 16  Tipo de recuperación_pcr         float64\n",
      " 17  Tipo de recuperación_tiempo      float64\n",
      " 18  Tipo de recuperación_nan         float64\n",
      "dtypes: float64(19)\n",
      "memory usage: 952.7 MB\n"
     ]
    }
   ],
   "source": [
    "dw.info()"
   ]
  },
  {
   "cell_type": "markdown",
   "id": "f5139925",
   "metadata": {},
   "source": [
    "<h4> Conclusiones: </h4> "
   ]
  },
  {
   "cell_type": "markdown",
   "id": "4a3ba97c",
   "metadata": {},
   "source": [
    "<P> En este trabajo se llevó a cabo un exhaustivo proceso de preprocesamiento de datos con el objetivo de preparar el conjunto de datos para su posterior análisis y modelado. A continuación, se detallan las principales etapas y su importancia:</P>\n",
    "<li> Limpieza de datos </li>\n",
    "<li> Selección de variables </li>\n",
    "<li> Eliminación de duplicados </li>\n",
    "<li> Detección de outliers </li>\n",
    "<li> Conversión de variables de fecha </li>\n",
    "<li> Imputación de datos faltantes </li>\n",
    "<li> Creación de nuevas variables </li>\n",
    "<li> Codificación de variables categóricas </li>\n",
    "<p> el proceso de preprocesamiento de datos llevado a cabo en este trabajo ha sido esencial para garantizar la calidad y la consistencia de los datos, así como para prepararlos para su posterior análisis y modelado. Gracias a estas etapas, se ha obtenido un conjunto de datos limpio, completo y estructurado, lo que permitirá obtener resultados más precisos y confiables. </p>"
   ]
  }
 ],
 "metadata": {
  "kernelspec": {
   "display_name": "Python 3 (ipykernel)",
   "language": "python",
   "name": "python3"
  },
  "language_info": {
   "codemirror_mode": {
    "name": "ipython",
    "version": 3
   },
   "file_extension": ".py",
   "mimetype": "text/x-python",
   "name": "python",
   "nbconvert_exporter": "python",
   "pygments_lexer": "ipython3",
   "version": "3.10.9"
  }
 },
 "nbformat": 4,
 "nbformat_minor": 5
}
