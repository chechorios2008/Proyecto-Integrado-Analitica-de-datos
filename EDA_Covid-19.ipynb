{
 "cells": [
  {
   "cell_type": "markdown",
   "id": "18289f0f",
   "metadata": {},
   "source": [
    "<h1> Analítica de Datos Para Ingeniería Software y Datos </h1>\n",
    "<h2> S30 - Evidencia de Aprendizaje 1. Análisis exploratorio de datos del Covid-19 en Colombia </h2>\n",
    "<h3> Sergio Andres Rios Gomez </h3>\n",
    "<h3> Grupo: PREICA2402B010097 - Docente: Andrés Felipe Palacio</h3>"
   ]
  },
  {
   "cell_type": "markdown",
   "id": "35f65126",
   "metadata": {},
   "source": [
    "<h3> 1. Exploración y visualización preliminar de los datos </h3>\n",
    "<p> Objetivo: Obtener una primera impresión de los datos, identificar posibles problemas (valores faltantes, outliers, etc.) y entender su distribución. </p>"
   ]
  },
  {
   "cell_type": "code",
   "execution_count": 1,
   "id": "468a20df",
   "metadata": {},
   "outputs": [],
   "source": [
    "import numpy as np\n",
    "import pandas as pd\n",
    "import matplotlib.pyplot as plt\n",
    "import seaborn as sns"
   ]
  },
  {
   "cell_type": "markdown",
   "id": "a1a03f26",
   "metadata": {},
   "source": [
    "<p> 1. Carga los datos </p>"
   ]
  },
  {
   "cell_type": "code",
   "execution_count": 2,
   "id": "51e9f825",
   "metadata": {
    "scrolled": true
   },
   "outputs": [
    {
     "name": "stderr",
     "output_type": "stream",
     "text": [
      "C:\\Users\\chech\\AppData\\Local\\Temp\\ipykernel_18748\\3975353647.py:1: DtypeWarning: Columns (13,14) have mixed types. Specify dtype option on import or set low_memory=False.\n",
      "  data = pd.read_csv('Casos_positivos_de_COVID-19_en_Colombia..csv')\n"
     ]
    }
   ],
   "source": [
    "data = pd.read_csv('Casos_positivos_de_COVID-19_en_Colombia..csv')"
   ]
  },
  {
   "cell_type": "markdown",
   "id": "99194dcb",
   "metadata": {},
   "source": [
    "<p> 2. Información estructural del DataFrame, identificando nombre de la columna y tipo de dato </p>"
   ]
  },
  {
   "cell_type": "code",
   "execution_count": 3,
   "id": "cfd746ae",
   "metadata": {
    "scrolled": true
   },
   "outputs": [
    {
     "name": "stdout",
     "output_type": "stream",
     "text": [
      "<class 'pandas.core.frame.DataFrame'>\n",
      "RangeIndex: 6390971 entries, 0 to 6390970\n",
      "Data columns (total 23 columns):\n",
      " #   Column                        Dtype  \n",
      "---  ------                        -----  \n",
      " 0   fecha reporte web             object \n",
      " 1   ID de caso                    object \n",
      " 2   Fecha de notificación         object \n",
      " 3   Código DIVIPOLA departamento  object \n",
      " 4   Nombre departamento           object \n",
      " 5   Código DIVIPOLA municipio     object \n",
      " 6   Nombre municipio              object \n",
      " 7   Edad                          int64  \n",
      " 8   Unidad de medida de edad      int64  \n",
      " 9   Sexo                          object \n",
      " 10  Tipo de contagio              object \n",
      " 11  Ubicación del caso            object \n",
      " 12  Estado                        object \n",
      " 13  Código ISO del país           object \n",
      " 14  Nombre del país               object \n",
      " 15  Recuperado                    object \n",
      " 16  Fecha de inicio de síntomas   object \n",
      " 17  Fecha de muerte               object \n",
      " 18  Fecha de diagnóstico          object \n",
      " 19  Fecha de recuperación         object \n",
      " 20  Tipo de recuperación          object \n",
      " 21  Pertenencia étnica            float64\n",
      " 22  Nombre del grupo étnico       object \n",
      "dtypes: float64(1), int64(2), object(20)\n",
      "memory usage: 1.1+ GB\n"
     ]
    }
   ],
   "source": [
    "# 2. Información estructural del DataFrame\n",
    "data.info()"
   ]
  },
  {
   "cell_type": "markdown",
   "id": "3346431d",
   "metadata": {},
   "source": [
    "<p>  Visualización de la estructura, head(), tail(), sample() </p>"
   ]
  },
  {
   "cell_type": "code",
   "execution_count": 4,
   "id": "b33ca834",
   "metadata": {},
   "outputs": [
    {
     "data": {
      "text/html": [
       "<div>\n",
       "<style scoped>\n",
       "    .dataframe tbody tr th:only-of-type {\n",
       "        vertical-align: middle;\n",
       "    }\n",
       "\n",
       "    .dataframe tbody tr th {\n",
       "        vertical-align: top;\n",
       "    }\n",
       "\n",
       "    .dataframe thead th {\n",
       "        text-align: right;\n",
       "    }\n",
       "</style>\n",
       "<table border=\"1\" class=\"dataframe\">\n",
       "  <thead>\n",
       "    <tr style=\"text-align: right;\">\n",
       "      <th></th>\n",
       "      <th>fecha reporte web</th>\n",
       "      <th>ID de caso</th>\n",
       "      <th>Fecha de notificación</th>\n",
       "      <th>Código DIVIPOLA departamento</th>\n",
       "      <th>Nombre departamento</th>\n",
       "      <th>Código DIVIPOLA municipio</th>\n",
       "      <th>Nombre municipio</th>\n",
       "      <th>Edad</th>\n",
       "      <th>Unidad de medida de edad</th>\n",
       "      <th>Sexo</th>\n",
       "      <th>...</th>\n",
       "      <th>Código ISO del país</th>\n",
       "      <th>Nombre del país</th>\n",
       "      <th>Recuperado</th>\n",
       "      <th>Fecha de inicio de síntomas</th>\n",
       "      <th>Fecha de muerte</th>\n",
       "      <th>Fecha de diagnóstico</th>\n",
       "      <th>Fecha de recuperación</th>\n",
       "      <th>Tipo de recuperación</th>\n",
       "      <th>Pertenencia étnica</th>\n",
       "      <th>Nombre del grupo étnico</th>\n",
       "    </tr>\n",
       "  </thead>\n",
       "  <tbody>\n",
       "    <tr>\n",
       "      <th>0</th>\n",
       "      <td>2020-12-24 00:00:00</td>\n",
       "      <td>1,556,979</td>\n",
       "      <td>2020-12-22 00:00:00</td>\n",
       "      <td>76</td>\n",
       "      <td>VALLE</td>\n",
       "      <td>76,001</td>\n",
       "      <td>CALI</td>\n",
       "      <td>67</td>\n",
       "      <td>1</td>\n",
       "      <td>F</td>\n",
       "      <td>...</td>\n",
       "      <td>NaN</td>\n",
       "      <td>NaN</td>\n",
       "      <td>Recuperado</td>\n",
       "      <td>2020-12-21 00:00:00</td>\n",
       "      <td>NaN</td>\n",
       "      <td>2020-12-23 00:00:00</td>\n",
       "      <td>2021-01-04 00:00:00</td>\n",
       "      <td>Tiempo</td>\n",
       "      <td>6.0</td>\n",
       "      <td>NaN</td>\n",
       "    </tr>\n",
       "    <tr>\n",
       "      <th>1</th>\n",
       "      <td>2020-12-24 00:00:00</td>\n",
       "      <td>1,556,980</td>\n",
       "      <td>2020-12-19 00:00:00</td>\n",
       "      <td>76</td>\n",
       "      <td>VALLE</td>\n",
       "      <td>76,001</td>\n",
       "      <td>CALI</td>\n",
       "      <td>66</td>\n",
       "      <td>1</td>\n",
       "      <td>F</td>\n",
       "      <td>...</td>\n",
       "      <td>NaN</td>\n",
       "      <td>NaN</td>\n",
       "      <td>Recuperado</td>\n",
       "      <td>2020-12-07 00:00:00</td>\n",
       "      <td>NaN</td>\n",
       "      <td>2020-12-23 00:00:00</td>\n",
       "      <td>2020-12-25 00:00:00</td>\n",
       "      <td>Tiempo</td>\n",
       "      <td>6.0</td>\n",
       "      <td>NaN</td>\n",
       "    </tr>\n",
       "    <tr>\n",
       "      <th>2</th>\n",
       "      <td>2020-12-24 00:00:00</td>\n",
       "      <td>1,556,981</td>\n",
       "      <td>2020-12-19 00:00:00</td>\n",
       "      <td>76</td>\n",
       "      <td>VALLE</td>\n",
       "      <td>76,001</td>\n",
       "      <td>CALI</td>\n",
       "      <td>68</td>\n",
       "      <td>1</td>\n",
       "      <td>F</td>\n",
       "      <td>...</td>\n",
       "      <td>NaN</td>\n",
       "      <td>NaN</td>\n",
       "      <td>Recuperado</td>\n",
       "      <td>2020-12-18 00:00:00</td>\n",
       "      <td>NaN</td>\n",
       "      <td>2020-12-22 00:00:00</td>\n",
       "      <td>2021-01-01 00:00:00</td>\n",
       "      <td>Tiempo</td>\n",
       "      <td>6.0</td>\n",
       "      <td>NaN</td>\n",
       "    </tr>\n",
       "    <tr>\n",
       "      <th>3</th>\n",
       "      <td>2020-12-24 00:00:00</td>\n",
       "      <td>1,556,982</td>\n",
       "      <td>2020-12-22 00:00:00</td>\n",
       "      <td>76</td>\n",
       "      <td>VALLE</td>\n",
       "      <td>76,001</td>\n",
       "      <td>CALI</td>\n",
       "      <td>74</td>\n",
       "      <td>1</td>\n",
       "      <td>F</td>\n",
       "      <td>...</td>\n",
       "      <td>NaN</td>\n",
       "      <td>NaN</td>\n",
       "      <td>Fallecido</td>\n",
       "      <td>2020-12-17 00:00:00</td>\n",
       "      <td>2020-12-30 00:00:00</td>\n",
       "      <td>2020-12-23 00:00:00</td>\n",
       "      <td>NaN</td>\n",
       "      <td>NaN</td>\n",
       "      <td>6.0</td>\n",
       "      <td>NaN</td>\n",
       "    </tr>\n",
       "    <tr>\n",
       "      <th>4</th>\n",
       "      <td>2020-12-24 00:00:00</td>\n",
       "      <td>1,556,983</td>\n",
       "      <td>2020-12-22 00:00:00</td>\n",
       "      <td>76</td>\n",
       "      <td>VALLE</td>\n",
       "      <td>76,001</td>\n",
       "      <td>CALI</td>\n",
       "      <td>65</td>\n",
       "      <td>1</td>\n",
       "      <td>F</td>\n",
       "      <td>...</td>\n",
       "      <td>NaN</td>\n",
       "      <td>NaN</td>\n",
       "      <td>Recuperado</td>\n",
       "      <td>2020-12-21 00:00:00</td>\n",
       "      <td>NaN</td>\n",
       "      <td>2020-12-23 00:00:00</td>\n",
       "      <td>2021-01-04 00:00:00</td>\n",
       "      <td>Tiempo</td>\n",
       "      <td>6.0</td>\n",
       "      <td>NaN</td>\n",
       "    </tr>\n",
       "  </tbody>\n",
       "</table>\n",
       "<p>5 rows × 23 columns</p>\n",
       "</div>"
      ],
      "text/plain": [
       "     fecha reporte web ID de caso Fecha de notificación  \\\n",
       "0  2020-12-24 00:00:00  1,556,979   2020-12-22 00:00:00   \n",
       "1  2020-12-24 00:00:00  1,556,980   2020-12-19 00:00:00   \n",
       "2  2020-12-24 00:00:00  1,556,981   2020-12-19 00:00:00   \n",
       "3  2020-12-24 00:00:00  1,556,982   2020-12-22 00:00:00   \n",
       "4  2020-12-24 00:00:00  1,556,983   2020-12-22 00:00:00   \n",
       "\n",
       "  Código DIVIPOLA departamento Nombre departamento Código DIVIPOLA municipio  \\\n",
       "0                           76               VALLE                    76,001   \n",
       "1                           76               VALLE                    76,001   \n",
       "2                           76               VALLE                    76,001   \n",
       "3                           76               VALLE                    76,001   \n",
       "4                           76               VALLE                    76,001   \n",
       "\n",
       "  Nombre municipio  Edad  Unidad de medida de edad Sexo  ...  \\\n",
       "0             CALI    67                         1    F  ...   \n",
       "1             CALI    66                         1    F  ...   \n",
       "2             CALI    68                         1    F  ...   \n",
       "3             CALI    74                         1    F  ...   \n",
       "4             CALI    65                         1    F  ...   \n",
       "\n",
       "  Código ISO del país Nombre del país  Recuperado Fecha de inicio de síntomas  \\\n",
       "0                 NaN             NaN  Recuperado         2020-12-21 00:00:00   \n",
       "1                 NaN             NaN  Recuperado         2020-12-07 00:00:00   \n",
       "2                 NaN             NaN  Recuperado         2020-12-18 00:00:00   \n",
       "3                 NaN             NaN   Fallecido         2020-12-17 00:00:00   \n",
       "4                 NaN             NaN  Recuperado         2020-12-21 00:00:00   \n",
       "\n",
       "       Fecha de muerte Fecha de diagnóstico Fecha de recuperación  \\\n",
       "0                  NaN  2020-12-23 00:00:00   2021-01-04 00:00:00   \n",
       "1                  NaN  2020-12-23 00:00:00   2020-12-25 00:00:00   \n",
       "2                  NaN  2020-12-22 00:00:00   2021-01-01 00:00:00   \n",
       "3  2020-12-30 00:00:00  2020-12-23 00:00:00                   NaN   \n",
       "4                  NaN  2020-12-23 00:00:00   2021-01-04 00:00:00   \n",
       "\n",
       "  Tipo de recuperación Pertenencia étnica Nombre del grupo étnico  \n",
       "0               Tiempo                6.0                     NaN  \n",
       "1               Tiempo                6.0                     NaN  \n",
       "2               Tiempo                6.0                     NaN  \n",
       "3                  NaN                6.0                     NaN  \n",
       "4               Tiempo                6.0                     NaN  \n",
       "\n",
       "[5 rows x 23 columns]"
      ]
     },
     "execution_count": 4,
     "metadata": {},
     "output_type": "execute_result"
    }
   ],
   "source": [
    "data.head()"
   ]
  },
  {
   "cell_type": "code",
   "execution_count": 5,
   "id": "03a3bf84",
   "metadata": {},
   "outputs": [
    {
     "data": {
      "text/html": [
       "<div>\n",
       "<style scoped>\n",
       "    .dataframe tbody tr th:only-of-type {\n",
       "        vertical-align: middle;\n",
       "    }\n",
       "\n",
       "    .dataframe tbody tr th {\n",
       "        vertical-align: top;\n",
       "    }\n",
       "\n",
       "    .dataframe thead th {\n",
       "        text-align: right;\n",
       "    }\n",
       "</style>\n",
       "<table border=\"1\" class=\"dataframe\">\n",
       "  <thead>\n",
       "    <tr style=\"text-align: right;\">\n",
       "      <th></th>\n",
       "      <th>fecha reporte web</th>\n",
       "      <th>ID de caso</th>\n",
       "      <th>Fecha de notificación</th>\n",
       "      <th>Código DIVIPOLA departamento</th>\n",
       "      <th>Nombre departamento</th>\n",
       "      <th>Código DIVIPOLA municipio</th>\n",
       "      <th>Nombre municipio</th>\n",
       "      <th>Edad</th>\n",
       "      <th>Unidad de medida de edad</th>\n",
       "      <th>Sexo</th>\n",
       "      <th>...</th>\n",
       "      <th>Código ISO del país</th>\n",
       "      <th>Nombre del país</th>\n",
       "      <th>Recuperado</th>\n",
       "      <th>Fecha de inicio de síntomas</th>\n",
       "      <th>Fecha de muerte</th>\n",
       "      <th>Fecha de diagnóstico</th>\n",
       "      <th>Fecha de recuperación</th>\n",
       "      <th>Tipo de recuperación</th>\n",
       "      <th>Pertenencia étnica</th>\n",
       "      <th>Nombre del grupo étnico</th>\n",
       "    </tr>\n",
       "  </thead>\n",
       "  <tbody>\n",
       "    <tr>\n",
       "      <th>6390966</th>\n",
       "      <td>2021-10-24 00:00:00</td>\n",
       "      <td>4,990,088</td>\n",
       "      <td>2021-10-19 00:00:00</td>\n",
       "      <td>76</td>\n",
       "      <td>VALLE</td>\n",
       "      <td>76,520</td>\n",
       "      <td>PALMIRA</td>\n",
       "      <td>37</td>\n",
       "      <td>1</td>\n",
       "      <td>M</td>\n",
       "      <td>...</td>\n",
       "      <td>NaN</td>\n",
       "      <td>NaN</td>\n",
       "      <td>Recuperado</td>\n",
       "      <td>2021-10-13 00:00:00</td>\n",
       "      <td>NaN</td>\n",
       "      <td>2021-10-23 00:00:00</td>\n",
       "      <td>2021-10-27 00:00:00</td>\n",
       "      <td>Tiempo</td>\n",
       "      <td>6.0</td>\n",
       "      <td>NaN</td>\n",
       "    </tr>\n",
       "    <tr>\n",
       "      <th>6390967</th>\n",
       "      <td>2021-10-24 00:00:00</td>\n",
       "      <td>4,990,091</td>\n",
       "      <td>2021-10-23 00:00:00</td>\n",
       "      <td>76</td>\n",
       "      <td>VALLE</td>\n",
       "      <td>76,520</td>\n",
       "      <td>PALMIRA</td>\n",
       "      <td>36</td>\n",
       "      <td>1</td>\n",
       "      <td>M</td>\n",
       "      <td>...</td>\n",
       "      <td>NaN</td>\n",
       "      <td>NaN</td>\n",
       "      <td>Recuperado</td>\n",
       "      <td>2021-10-16 00:00:00</td>\n",
       "      <td>NaN</td>\n",
       "      <td>2021-10-23 00:00:00</td>\n",
       "      <td>2021-10-30 00:00:00</td>\n",
       "      <td>Tiempo</td>\n",
       "      <td>6.0</td>\n",
       "      <td>NaN</td>\n",
       "    </tr>\n",
       "    <tr>\n",
       "      <th>6390968</th>\n",
       "      <td>2021-10-24 00:00:00</td>\n",
       "      <td>4,990,092</td>\n",
       "      <td>2021-10-19 00:00:00</td>\n",
       "      <td>76</td>\n",
       "      <td>VALLE</td>\n",
       "      <td>76,364</td>\n",
       "      <td>JAMUNDI</td>\n",
       "      <td>39</td>\n",
       "      <td>1</td>\n",
       "      <td>F</td>\n",
       "      <td>...</td>\n",
       "      <td>NaN</td>\n",
       "      <td>NaN</td>\n",
       "      <td>Recuperado</td>\n",
       "      <td>2021-10-18 00:00:00</td>\n",
       "      <td>NaN</td>\n",
       "      <td>2021-10-23 00:00:00</td>\n",
       "      <td>2021-11-01 00:00:00</td>\n",
       "      <td>Tiempo</td>\n",
       "      <td>6.0</td>\n",
       "      <td>NaN</td>\n",
       "    </tr>\n",
       "    <tr>\n",
       "      <th>6390969</th>\n",
       "      <td>2021-10-24 00:00:00</td>\n",
       "      <td>4,990,095</td>\n",
       "      <td>2021-11-05 00:00:00</td>\n",
       "      <td>76</td>\n",
       "      <td>VALLE</td>\n",
       "      <td>76,364</td>\n",
       "      <td>JAMUNDI</td>\n",
       "      <td>43</td>\n",
       "      <td>1</td>\n",
       "      <td>F</td>\n",
       "      <td>...</td>\n",
       "      <td>NaN</td>\n",
       "      <td>NaN</td>\n",
       "      <td>Recuperado</td>\n",
       "      <td>2021-10-21 00:00:00</td>\n",
       "      <td>NaN</td>\n",
       "      <td>2021-10-23 00:00:00</td>\n",
       "      <td>2021-11-04 00:00:00</td>\n",
       "      <td>PCR</td>\n",
       "      <td>6.0</td>\n",
       "      <td>NaN</td>\n",
       "    </tr>\n",
       "    <tr>\n",
       "      <th>6390970</th>\n",
       "      <td>2021-10-24 00:00:00</td>\n",
       "      <td>4,990,096</td>\n",
       "      <td>2021-10-22 00:00:00</td>\n",
       "      <td>76</td>\n",
       "      <td>VALLE</td>\n",
       "      <td>76,364</td>\n",
       "      <td>JAMUNDI</td>\n",
       "      <td>16</td>\n",
       "      <td>1</td>\n",
       "      <td>M</td>\n",
       "      <td>...</td>\n",
       "      <td>NaN</td>\n",
       "      <td>NaN</td>\n",
       "      <td>Recuperado</td>\n",
       "      <td>2021-10-21 00:00:00</td>\n",
       "      <td>NaN</td>\n",
       "      <td>2021-10-23 00:00:00</td>\n",
       "      <td>2021-11-04 00:00:00</td>\n",
       "      <td>PCR</td>\n",
       "      <td>6.0</td>\n",
       "      <td>NaN</td>\n",
       "    </tr>\n",
       "  </tbody>\n",
       "</table>\n",
       "<p>5 rows × 23 columns</p>\n",
       "</div>"
      ],
      "text/plain": [
       "           fecha reporte web ID de caso Fecha de notificación  \\\n",
       "6390966  2021-10-24 00:00:00  4,990,088   2021-10-19 00:00:00   \n",
       "6390967  2021-10-24 00:00:00  4,990,091   2021-10-23 00:00:00   \n",
       "6390968  2021-10-24 00:00:00  4,990,092   2021-10-19 00:00:00   \n",
       "6390969  2021-10-24 00:00:00  4,990,095   2021-11-05 00:00:00   \n",
       "6390970  2021-10-24 00:00:00  4,990,096   2021-10-22 00:00:00   \n",
       "\n",
       "        Código DIVIPOLA departamento Nombre departamento  \\\n",
       "6390966                           76               VALLE   \n",
       "6390967                           76               VALLE   \n",
       "6390968                           76               VALLE   \n",
       "6390969                           76               VALLE   \n",
       "6390970                           76               VALLE   \n",
       "\n",
       "        Código DIVIPOLA municipio Nombre municipio  Edad  \\\n",
       "6390966                    76,520          PALMIRA    37   \n",
       "6390967                    76,520          PALMIRA    36   \n",
       "6390968                    76,364          JAMUNDI    39   \n",
       "6390969                    76,364          JAMUNDI    43   \n",
       "6390970                    76,364          JAMUNDI    16   \n",
       "\n",
       "         Unidad de medida de edad Sexo  ... Código ISO del país  \\\n",
       "6390966                         1    M  ...                 NaN   \n",
       "6390967                         1    M  ...                 NaN   \n",
       "6390968                         1    F  ...                 NaN   \n",
       "6390969                         1    F  ...                 NaN   \n",
       "6390970                         1    M  ...                 NaN   \n",
       "\n",
       "        Nombre del país  Recuperado Fecha de inicio de síntomas  \\\n",
       "6390966             NaN  Recuperado         2021-10-13 00:00:00   \n",
       "6390967             NaN  Recuperado         2021-10-16 00:00:00   \n",
       "6390968             NaN  Recuperado         2021-10-18 00:00:00   \n",
       "6390969             NaN  Recuperado         2021-10-21 00:00:00   \n",
       "6390970             NaN  Recuperado         2021-10-21 00:00:00   \n",
       "\n",
       "        Fecha de muerte Fecha de diagnóstico Fecha de recuperación  \\\n",
       "6390966             NaN  2021-10-23 00:00:00   2021-10-27 00:00:00   \n",
       "6390967             NaN  2021-10-23 00:00:00   2021-10-30 00:00:00   \n",
       "6390968             NaN  2021-10-23 00:00:00   2021-11-01 00:00:00   \n",
       "6390969             NaN  2021-10-23 00:00:00   2021-11-04 00:00:00   \n",
       "6390970             NaN  2021-10-23 00:00:00   2021-11-04 00:00:00   \n",
       "\n",
       "        Tipo de recuperación Pertenencia étnica Nombre del grupo étnico  \n",
       "6390966               Tiempo                6.0                     NaN  \n",
       "6390967               Tiempo                6.0                     NaN  \n",
       "6390968               Tiempo                6.0                     NaN  \n",
       "6390969                  PCR                6.0                     NaN  \n",
       "6390970                  PCR                6.0                     NaN  \n",
       "\n",
       "[5 rows x 23 columns]"
      ]
     },
     "execution_count": 5,
     "metadata": {},
     "output_type": "execute_result"
    }
   ],
   "source": [
    "data.tail()"
   ]
  },
  {
   "cell_type": "code",
   "execution_count": 6,
   "id": "549f8e4f",
   "metadata": {
    "scrolled": true
   },
   "outputs": [
    {
     "data": {
      "text/html": [
       "<div>\n",
       "<style scoped>\n",
       "    .dataframe tbody tr th:only-of-type {\n",
       "        vertical-align: middle;\n",
       "    }\n",
       "\n",
       "    .dataframe tbody tr th {\n",
       "        vertical-align: top;\n",
       "    }\n",
       "\n",
       "    .dataframe thead th {\n",
       "        text-align: right;\n",
       "    }\n",
       "</style>\n",
       "<table border=\"1\" class=\"dataframe\">\n",
       "  <thead>\n",
       "    <tr style=\"text-align: right;\">\n",
       "      <th></th>\n",
       "      <th>fecha reporte web</th>\n",
       "      <th>ID de caso</th>\n",
       "      <th>Fecha de notificación</th>\n",
       "      <th>Código DIVIPOLA departamento</th>\n",
       "      <th>Nombre departamento</th>\n",
       "      <th>Código DIVIPOLA municipio</th>\n",
       "      <th>Nombre municipio</th>\n",
       "      <th>Edad</th>\n",
       "      <th>Unidad de medida de edad</th>\n",
       "      <th>Sexo</th>\n",
       "      <th>...</th>\n",
       "      <th>Código ISO del país</th>\n",
       "      <th>Nombre del país</th>\n",
       "      <th>Recuperado</th>\n",
       "      <th>Fecha de inicio de síntomas</th>\n",
       "      <th>Fecha de muerte</th>\n",
       "      <th>Fecha de diagnóstico</th>\n",
       "      <th>Fecha de recuperación</th>\n",
       "      <th>Tipo de recuperación</th>\n",
       "      <th>Pertenencia étnica</th>\n",
       "      <th>Nombre del grupo étnico</th>\n",
       "    </tr>\n",
       "  </thead>\n",
       "  <tbody>\n",
       "    <tr>\n",
       "      <th>1184787</th>\n",
       "      <td>2021-05-07 00:00:00</td>\n",
       "      <td>2,956,723</td>\n",
       "      <td>2021-04-25 00:00:00</td>\n",
       "      <td>20</td>\n",
       "      <td>CESAR</td>\n",
       "      <td>20,001</td>\n",
       "      <td>VALLEDUPAR</td>\n",
       "      <td>57</td>\n",
       "      <td>1</td>\n",
       "      <td>F</td>\n",
       "      <td>...</td>\n",
       "      <td>NaN</td>\n",
       "      <td>NaN</td>\n",
       "      <td>Recuperado</td>\n",
       "      <td>2021-04-21 00:00:00</td>\n",
       "      <td>NaN</td>\n",
       "      <td>2021-05-06 00:00:00</td>\n",
       "      <td>2021-05-08 00:00:00</td>\n",
       "      <td>PCR</td>\n",
       "      <td>6.0</td>\n",
       "      <td>NaN</td>\n",
       "    </tr>\n",
       "    <tr>\n",
       "      <th>837983</th>\n",
       "      <td>2021-04-13 00:00:00</td>\n",
       "      <td>2,556,520</td>\n",
       "      <td>2021-04-09 00:00:00</td>\n",
       "      <td>13,001</td>\n",
       "      <td>CARTAGENA</td>\n",
       "      <td>13,001</td>\n",
       "      <td>CARTAGENA</td>\n",
       "      <td>44</td>\n",
       "      <td>1</td>\n",
       "      <td>F</td>\n",
       "      <td>...</td>\n",
       "      <td>NaN</td>\n",
       "      <td>NaN</td>\n",
       "      <td>Recuperado</td>\n",
       "      <td>2021-04-05 00:00:00</td>\n",
       "      <td>NaN</td>\n",
       "      <td>2021-04-11 00:00:00</td>\n",
       "      <td>2021-04-19 00:00:00</td>\n",
       "      <td>Tiempo</td>\n",
       "      <td>6.0</td>\n",
       "      <td>NaN</td>\n",
       "    </tr>\n",
       "    <tr>\n",
       "      <th>4270997</th>\n",
       "      <td>2021-06-27 00:00:00</td>\n",
       "      <td>4,153,930</td>\n",
       "      <td>2021-06-14 00:00:00</td>\n",
       "      <td>17</td>\n",
       "      <td>CALDAS</td>\n",
       "      <td>17,001</td>\n",
       "      <td>MANIZALES</td>\n",
       "      <td>49</td>\n",
       "      <td>1</td>\n",
       "      <td>F</td>\n",
       "      <td>...</td>\n",
       "      <td>NaN</td>\n",
       "      <td>NaN</td>\n",
       "      <td>Recuperado</td>\n",
       "      <td>2021-06-10 00:00:00</td>\n",
       "      <td>NaN</td>\n",
       "      <td>2021-06-25 00:00:00</td>\n",
       "      <td>2021-06-28 00:00:00</td>\n",
       "      <td>Tiempo</td>\n",
       "      <td>6.0</td>\n",
       "      <td>NaN</td>\n",
       "    </tr>\n",
       "    <tr>\n",
       "      <th>5873556</th>\n",
       "      <td>2022-01-14 00:00:00</td>\n",
       "      <td>5,454,860</td>\n",
       "      <td>2022-01-07 00:00:00</td>\n",
       "      <td>19</td>\n",
       "      <td>CAUCA</td>\n",
       "      <td>19,001</td>\n",
       "      <td>POPAYAN</td>\n",
       "      <td>41</td>\n",
       "      <td>1</td>\n",
       "      <td>F</td>\n",
       "      <td>...</td>\n",
       "      <td>NaN</td>\n",
       "      <td>NaN</td>\n",
       "      <td>Recuperado</td>\n",
       "      <td>2022-01-03 00:00:00</td>\n",
       "      <td>NaN</td>\n",
       "      <td>2022-01-12 00:00:00</td>\n",
       "      <td>2022-01-17 00:00:00</td>\n",
       "      <td>Tiempo</td>\n",
       "      <td>1.0</td>\n",
       "      <td>Sin Comunidad</td>\n",
       "    </tr>\n",
       "    <tr>\n",
       "      <th>2802342</th>\n",
       "      <td>2020-10-30 00:00:00</td>\n",
       "      <td>1,062,226</td>\n",
       "      <td>2020-10-18 00:00:00</td>\n",
       "      <td>5</td>\n",
       "      <td>ANTIOQUIA</td>\n",
       "      <td>5,001</td>\n",
       "      <td>MEDELLIN</td>\n",
       "      <td>24</td>\n",
       "      <td>1</td>\n",
       "      <td>F</td>\n",
       "      <td>...</td>\n",
       "      <td>NaN</td>\n",
       "      <td>NaN</td>\n",
       "      <td>Recuperado</td>\n",
       "      <td>2020-10-15 00:00:00</td>\n",
       "      <td>NaN</td>\n",
       "      <td>2020-10-28 00:00:00</td>\n",
       "      <td>2020-10-31 00:00:00</td>\n",
       "      <td>Tiempo</td>\n",
       "      <td>6.0</td>\n",
       "      <td>NaN</td>\n",
       "    </tr>\n",
       "  </tbody>\n",
       "</table>\n",
       "<p>5 rows × 23 columns</p>\n",
       "</div>"
      ],
      "text/plain": [
       "           fecha reporte web ID de caso Fecha de notificación  \\\n",
       "1184787  2021-05-07 00:00:00  2,956,723   2021-04-25 00:00:00   \n",
       "837983   2021-04-13 00:00:00  2,556,520   2021-04-09 00:00:00   \n",
       "4270997  2021-06-27 00:00:00  4,153,930   2021-06-14 00:00:00   \n",
       "5873556  2022-01-14 00:00:00  5,454,860   2022-01-07 00:00:00   \n",
       "2802342  2020-10-30 00:00:00  1,062,226   2020-10-18 00:00:00   \n",
       "\n",
       "        Código DIVIPOLA departamento Nombre departamento  \\\n",
       "1184787                           20               CESAR   \n",
       "837983                        13,001           CARTAGENA   \n",
       "4270997                           17              CALDAS   \n",
       "5873556                           19               CAUCA   \n",
       "2802342                            5           ANTIOQUIA   \n",
       "\n",
       "        Código DIVIPOLA municipio Nombre municipio  Edad  \\\n",
       "1184787                    20,001       VALLEDUPAR    57   \n",
       "837983                     13,001        CARTAGENA    44   \n",
       "4270997                    17,001        MANIZALES    49   \n",
       "5873556                    19,001          POPAYAN    41   \n",
       "2802342                     5,001         MEDELLIN    24   \n",
       "\n",
       "         Unidad de medida de edad Sexo  ... Código ISO del país  \\\n",
       "1184787                         1    F  ...                 NaN   \n",
       "837983                          1    F  ...                 NaN   \n",
       "4270997                         1    F  ...                 NaN   \n",
       "5873556                         1    F  ...                 NaN   \n",
       "2802342                         1    F  ...                 NaN   \n",
       "\n",
       "        Nombre del país  Recuperado Fecha de inicio de síntomas  \\\n",
       "1184787             NaN  Recuperado         2021-04-21 00:00:00   \n",
       "837983              NaN  Recuperado         2021-04-05 00:00:00   \n",
       "4270997             NaN  Recuperado         2021-06-10 00:00:00   \n",
       "5873556             NaN  Recuperado         2022-01-03 00:00:00   \n",
       "2802342             NaN  Recuperado         2020-10-15 00:00:00   \n",
       "\n",
       "        Fecha de muerte Fecha de diagnóstico Fecha de recuperación  \\\n",
       "1184787             NaN  2021-05-06 00:00:00   2021-05-08 00:00:00   \n",
       "837983              NaN  2021-04-11 00:00:00   2021-04-19 00:00:00   \n",
       "4270997             NaN  2021-06-25 00:00:00   2021-06-28 00:00:00   \n",
       "5873556             NaN  2022-01-12 00:00:00   2022-01-17 00:00:00   \n",
       "2802342             NaN  2020-10-28 00:00:00   2020-10-31 00:00:00   \n",
       "\n",
       "        Tipo de recuperación Pertenencia étnica Nombre del grupo étnico  \n",
       "1184787                  PCR                6.0                     NaN  \n",
       "837983                Tiempo                6.0                     NaN  \n",
       "4270997               Tiempo                6.0                     NaN  \n",
       "5873556               Tiempo                1.0           Sin Comunidad  \n",
       "2802342               Tiempo                6.0                     NaN  \n",
       "\n",
       "[5 rows x 23 columns]"
      ]
     },
     "execution_count": 6,
     "metadata": {},
     "output_type": "execute_result"
    }
   ],
   "source": [
    "data.sample(5)"
   ]
  },
  {
   "cell_type": "markdown",
   "id": "ffeef350",
   "metadata": {},
   "source": [
    "<p> Conteo de valores únicos para variables: </p>\n",
    "<li> Estado.\n",
    "<li> Sexo.\n",
    "<li> Tipo.\n",
    "<li> País_procedencia.\n",
    "<li> Tipo_recuperación.\n",
    "<li> Pertenencia_étnica.\n",
    "<li> Nombre_grupo_étnico "
   ]
  },
  {
   "cell_type": "code",
   "execution_count": 7,
   "id": "f148c0d2",
   "metadata": {},
   "outputs": [],
   "source": [
    "def contar_valores_unicos(df, columna):\n",
    "    \"\"\"\n",
    "    Cuenta los valores únicos de una columna, aplicando la transformación adecuada según el tipo de dato.\n",
    "    Args:\n",
    "        df (pandas.DataFrame): El DataFrame que contiene los datos.\n",
    "        columna (str): El nombre de la columna a analizar.\n",
    "    Returns:\n",
    "        valores únicos y sus frecuencias.\n",
    "    \"\"\"\n",
    "    # Obtener el tipo de dato de la columna\n",
    "    dtype = df[columna].dtype\n",
    "    # Como el df tiene diferentes tipos de datos, se aplican condiciones según el tipo.\n",
    "    if dtype == np.object_:\n",
    "        df[columna] = df[columna].str.lower()\n",
    "    elif np.issubdtype(dtype, np.number):\n",
    "        pass\n",
    "    else:\n",
    "        print(f\"Tipo de dato no soportado: {dtype}\")\n",
    "\n",
    "    return df[columna].value_counts(dropna=False)"
   ]
  },
  {
   "cell_type": "code",
   "execution_count": 8,
   "id": "ccc31599",
   "metadata": {},
   "outputs": [
    {
     "data": {
      "text/plain": [
       "leve         6205416\n",
       "fallecido     143125\n",
       "NaN            41268\n",
       "moderado        1056\n",
       "grave            106\n",
       "Name: Estado, dtype: int64"
      ]
     },
     "execution_count": 8,
     "metadata": {},
     "output_type": "execute_result"
    }
   ],
   "source": [
    "# Columna \"Estado\"\n",
    "Estado_counts = contar_valores_unicos(data, 'Estado')\n",
    "Estado_counts"
   ]
  },
  {
   "cell_type": "code",
   "execution_count": 9,
   "id": "9a9da00c",
   "metadata": {},
   "outputs": [
    {
     "data": {
      "text/plain": [
       "f    3417093\n",
       "m    2973878\n",
       "Name: Sexo, dtype: int64"
      ]
     },
     "execution_count": 9,
     "metadata": {},
     "output_type": "execute_result"
    }
   ],
   "source": [
    "# Columna \"Sexo\"\n",
    "Sexo_counts = contar_valores_unicos(data, 'Sexo')\n",
    "Sexo_counts"
   ]
  },
  {
   "cell_type": "code",
   "execution_count": 10,
   "id": "01b04773",
   "metadata": {},
   "outputs": [
    {
     "data": {
      "text/plain": [
       "comunitaria    4447740\n",
       "relacionado    1939528\n",
       "importado         3703\n",
       "Name: Tipo de contagio, dtype: int64"
      ]
     },
     "execution_count": 10,
     "metadata": {},
     "output_type": "execute_result"
    }
   ],
   "source": [
    "# Columna \"Tipo de contagio\"\n",
    "tipo_counts = contar_valores_unicos(data, 'Tipo de contagio')\n",
    "tipo_counts"
   ]
  },
  {
   "cell_type": "code",
   "execution_count": 11,
   "id": "3ea419e0",
   "metadata": {},
   "outputs": [
    {
     "data": {
      "text/plain": [
       "NaN                          6387253\n",
       "estados unidos de américa       1418\n",
       "méxico                           385\n",
       "españa                           370\n",
       "brasil                           285\n",
       "                              ...   \n",
       "andorra                            1\n",
       "kenya                              1\n",
       "guadalupe                          1\n",
       "república docimincana              1\n",
       "haití                              1\n",
       "Name: Nombre del país, Length: 90, dtype: int64"
      ]
     },
     "execution_count": 11,
     "metadata": {},
     "output_type": "execute_result"
    }
   ],
   "source": [
    "# Columna \"País_procedencia\"\n",
    "pais_counts = contar_valores_unicos(data, 'Nombre del país')\n",
    "pais_counts"
   ]
  },
  {
   "cell_type": "code",
   "execution_count": 12,
   "id": "3393106b",
   "metadata": {},
   "outputs": [
    {
     "data": {
      "text/plain": [
       "tiempo    5274800\n",
       "pcr        933773\n",
       "NaN        182398\n",
       "Name: Tipo de recuperación, dtype: int64"
      ]
     },
     "execution_count": 12,
     "metadata": {},
     "output_type": "execute_result"
    }
   ],
   "source": [
    "# Columna \"Tipo_recuperación\"\n",
    "tipo_recup_counts = contar_valores_unicos(data, 'Tipo de recuperación')\n",
    "tipo_recup_counts"
   ]
  },
  {
   "cell_type": "code",
   "execution_count": 13,
   "id": "12ea5207",
   "metadata": {},
   "outputs": [
    {
     "data": {
      "text/plain": [
       "6.0    6166659\n",
       "5.0     137411\n",
       "1.0      84202\n",
       "NaN       2156\n",
       "3.0        405\n",
       "2.0        138\n",
       "Name: Pertenencia étnica, dtype: int64"
      ]
     },
     "execution_count": 13,
     "metadata": {},
     "output_type": "execute_result"
    }
   ],
   "source": [
    "# Columna \"Pertenencia_étnica\"\n",
    "pert_etn_counts = contar_valores_unicos(data, 'Pertenencia étnica')\n",
    "pert_etn_counts"
   ]
  },
  {
   "cell_type": "code",
   "execution_count": 14,
   "id": "d09ebff8",
   "metadata": {},
   "outputs": [
    {
     "data": {
      "text/plain": [
       "NaN                                                          6307107\n",
       "por definir                                                    17373\n",
       "sin comunidad                                                  12160\n",
       "zenu                                                            9264\n",
       "pijao                                                           4112\n",
       "                                                              ...   \n",
       "agua clara                                                         1\n",
       "purraneramana                                                      1\n",
       "kaiwarraimana (sector poportin- corregimiento de cardon))          1\n",
       "punta tigre                                                        1\n",
       "mashalerrain                                                       1\n",
       "Name: Nombre del grupo étnico, Length: 1880, dtype: int64"
      ]
     },
     "execution_count": 14,
     "metadata": {},
     "output_type": "execute_result"
    }
   ],
   "source": [
    "# Columna \"Nombre_grupo_étnico\"\n",
    "grup_etn_counts = contar_valores_unicos(data, 'Nombre del grupo étnico')\n",
    "grup_etn_counts"
   ]
  },
  {
   "cell_type": "markdown",
   "id": "da0285a4",
   "metadata": {},
   "source": [
    "<h3> 2. Análisis Descriptivo de Datos (ADD) </h3>\n",
    "<p> Objetivo: Describir las características principales de los datos.</p> \n",
    "<p> Como analiticos encargados del presente ejercicio, se identifican las siguientes variables para ser analizadas al detalle: </p>\n",
    "<li> Fecha de inicio de síntomas\n",
    "<li> Nombre departamento\n",
    "<li> Nombre municipio\n",
    "<li> Edad\n",
    "<li> Sexo\n",
    "<li> Tipo de contagio\n",
    "<li> Ubicación del caso\n",
    "<li> Estado\n",
    "<li> Recuperado\n",
    "<li> Fecha de muerte\n",
    "<li> Fecha de recuperación\n",
    "<li> Tipo de recuperación\n",
    "<li> Pertenencia étnica\n",
    "<li> Nombre del grupo étnico   "
   ]
  },
  {
   "cell_type": "code",
   "execution_count": 15,
   "id": "a8d3ccd7",
   "metadata": {},
   "outputs": [],
   "source": [
    "df = data[['Fecha de inicio de síntomas','Nombre departamento', 'Nombre municipio', 'Edad','Sexo', 'Tipo de contagio',\n",
    "       'Ubicación del caso', 'Estado','Recuperado','Fecha de muerte', \n",
    "       'Fecha de diagnóstico', 'Fecha de recuperación','Tipo de recuperación', 'Pertenencia étnica',\n",
    "       'Nombre del grupo étnico']]"
   ]
  },
  {
   "cell_type": "code",
   "execution_count": 16,
   "id": "dd85b5df",
   "metadata": {
    "scrolled": true
   },
   "outputs": [
    {
     "data": {
      "text/html": [
       "<div>\n",
       "<style scoped>\n",
       "    .dataframe tbody tr th:only-of-type {\n",
       "        vertical-align: middle;\n",
       "    }\n",
       "\n",
       "    .dataframe tbody tr th {\n",
       "        vertical-align: top;\n",
       "    }\n",
       "\n",
       "    .dataframe thead th {\n",
       "        text-align: right;\n",
       "    }\n",
       "</style>\n",
       "<table border=\"1\" class=\"dataframe\">\n",
       "  <thead>\n",
       "    <tr style=\"text-align: right;\">\n",
       "      <th></th>\n",
       "      <th>Fecha de inicio de síntomas</th>\n",
       "      <th>Nombre departamento</th>\n",
       "      <th>Nombre municipio</th>\n",
       "      <th>Edad</th>\n",
       "      <th>Sexo</th>\n",
       "      <th>Tipo de contagio</th>\n",
       "      <th>Ubicación del caso</th>\n",
       "      <th>Estado</th>\n",
       "      <th>Recuperado</th>\n",
       "      <th>Fecha de muerte</th>\n",
       "      <th>Fecha de diagnóstico</th>\n",
       "      <th>Fecha de recuperación</th>\n",
       "      <th>Tipo de recuperación</th>\n",
       "      <th>Pertenencia étnica</th>\n",
       "      <th>Nombre del grupo étnico</th>\n",
       "    </tr>\n",
       "  </thead>\n",
       "  <tbody>\n",
       "    <tr>\n",
       "      <th>0</th>\n",
       "      <td>2020-12-21 00:00:00</td>\n",
       "      <td>VALLE</td>\n",
       "      <td>CALI</td>\n",
       "      <td>67</td>\n",
       "      <td>f</td>\n",
       "      <td>comunitaria</td>\n",
       "      <td>Casa</td>\n",
       "      <td>leve</td>\n",
       "      <td>Recuperado</td>\n",
       "      <td>NaN</td>\n",
       "      <td>2020-12-23 00:00:00</td>\n",
       "      <td>2021-01-04 00:00:00</td>\n",
       "      <td>tiempo</td>\n",
       "      <td>6.0</td>\n",
       "      <td>NaN</td>\n",
       "    </tr>\n",
       "    <tr>\n",
       "      <th>1</th>\n",
       "      <td>2020-12-07 00:00:00</td>\n",
       "      <td>VALLE</td>\n",
       "      <td>CALI</td>\n",
       "      <td>66</td>\n",
       "      <td>f</td>\n",
       "      <td>comunitaria</td>\n",
       "      <td>Casa</td>\n",
       "      <td>leve</td>\n",
       "      <td>Recuperado</td>\n",
       "      <td>NaN</td>\n",
       "      <td>2020-12-23 00:00:00</td>\n",
       "      <td>2020-12-25 00:00:00</td>\n",
       "      <td>tiempo</td>\n",
       "      <td>6.0</td>\n",
       "      <td>NaN</td>\n",
       "    </tr>\n",
       "    <tr>\n",
       "      <th>2</th>\n",
       "      <td>2020-12-18 00:00:00</td>\n",
       "      <td>VALLE</td>\n",
       "      <td>CALI</td>\n",
       "      <td>68</td>\n",
       "      <td>f</td>\n",
       "      <td>comunitaria</td>\n",
       "      <td>Casa</td>\n",
       "      <td>leve</td>\n",
       "      <td>Recuperado</td>\n",
       "      <td>NaN</td>\n",
       "      <td>2020-12-22 00:00:00</td>\n",
       "      <td>2021-01-01 00:00:00</td>\n",
       "      <td>tiempo</td>\n",
       "      <td>6.0</td>\n",
       "      <td>NaN</td>\n",
       "    </tr>\n",
       "  </tbody>\n",
       "</table>\n",
       "</div>"
      ],
      "text/plain": [
       "  Fecha de inicio de síntomas Nombre departamento Nombre municipio  Edad Sexo  \\\n",
       "0         2020-12-21 00:00:00               VALLE             CALI    67    f   \n",
       "1         2020-12-07 00:00:00               VALLE             CALI    66    f   \n",
       "2         2020-12-18 00:00:00               VALLE             CALI    68    f   \n",
       "\n",
       "  Tipo de contagio Ubicación del caso Estado  Recuperado Fecha de muerte  \\\n",
       "0      comunitaria               Casa   leve  Recuperado             NaN   \n",
       "1      comunitaria               Casa   leve  Recuperado             NaN   \n",
       "2      comunitaria               Casa   leve  Recuperado             NaN   \n",
       "\n",
       "  Fecha de diagnóstico Fecha de recuperación Tipo de recuperación  \\\n",
       "0  2020-12-23 00:00:00   2021-01-04 00:00:00               tiempo   \n",
       "1  2020-12-23 00:00:00   2020-12-25 00:00:00               tiempo   \n",
       "2  2020-12-22 00:00:00   2021-01-01 00:00:00               tiempo   \n",
       "\n",
       "   Pertenencia étnica Nombre del grupo étnico  \n",
       "0                 6.0                     NaN  \n",
       "1                 6.0                     NaN  \n",
       "2                 6.0                     NaN  "
      ]
     },
     "execution_count": 16,
     "metadata": {},
     "output_type": "execute_result"
    }
   ],
   "source": [
    "df.head(3)"
   ]
  },
  {
   "cell_type": "markdown",
   "id": "15b9530f",
   "metadata": {},
   "source": [
    "<h4> Fecha de inicio de síntomas </h4>"
   ]
  },
  {
   "cell_type": "code",
   "execution_count": 17,
   "id": "cfc8f0b2",
   "metadata": {},
   "outputs": [
    {
     "name": "stderr",
     "output_type": "stream",
     "text": [
      "C:\\Users\\chech\\AppData\\Local\\Temp\\ipykernel_18748\\221897061.py:1: SettingWithCopyWarning: \n",
      "A value is trying to be set on a copy of a slice from a DataFrame.\n",
      "Try using .loc[row_indexer,col_indexer] = value instead\n",
      "\n",
      "See the caveats in the documentation: https://pandas.pydata.org/pandas-docs/stable/user_guide/indexing.html#returning-a-view-versus-a-copy\n",
      "  df['Fecha de inicio de síntomas'] = pd.to_datetime(df['Fecha de inicio de síntomas'])\n"
     ]
    }
   ],
   "source": [
    "df['Fecha de inicio de síntomas'] = pd.to_datetime(df['Fecha de inicio de síntomas'])"
   ]
  },
  {
   "cell_type": "code",
   "execution_count": 18,
   "id": "8dd93c82",
   "metadata": {},
   "outputs": [
    {
     "name": "stdout",
     "output_type": "stream",
     "text": [
      "El rango de fechas es desde 2020-02-27 00:00:00 hasta 2024-01-15 00:00:00\n"
     ]
    }
   ],
   "source": [
    "fecha_inicio = df['Fecha de inicio de síntomas'].min()\n",
    "fecha_fin = df['Fecha de inicio de síntomas'].max()\n",
    "print(\"El rango de fechas es desde\", fecha_inicio, \"hasta\", fecha_fin)"
   ]
  },
  {
   "cell_type": "code",
   "execution_count": 19,
   "id": "b48a536e",
   "metadata": {},
   "outputs": [
    {
     "name": "stderr",
     "output_type": "stream",
     "text": [
      "C:\\Users\\chech\\AppData\\Local\\Temp\\ipykernel_18748\\1149485050.py:1: SettingWithCopyWarning: \n",
      "A value is trying to be set on a copy of a slice from a DataFrame.\n",
      "Try using .loc[row_indexer,col_indexer] = value instead\n",
      "\n",
      "See the caveats in the documentation: https://pandas.pydata.org/pandas-docs/stable/user_guide/indexing.html#returning-a-view-versus-a-copy\n",
      "  df['Año'] = pd.DatetimeIndex(df['Fecha de inicio de síntomas']).year\n"
     ]
    }
   ],
   "source": [
    "df['Año'] = pd.DatetimeIndex(df['Fecha de inicio de síntomas']).year\n",
    "frecuencia_por_año = df['Año'].value_counts().sort_index()"
   ]
  },
  {
   "cell_type": "code",
   "execution_count": 20,
   "id": "eab94036",
   "metadata": {
    "scrolled": true
   },
   "outputs": [
    {
     "data": {
      "image/png": "[encoded data removed]",
      "text/plain": [
       "<Figure size 600x400 with 1 Axes>"
      ]
     },
     "metadata": {},
     "output_type": "display_data"
    }
   ],
   "source": [
    "plt.figure(figsize=(6, 4))\n",
    "plt.bar(frecuencia_por_año.index, frecuencia_por_año)\n",
    "plt.xlabel('Año')\n",
    "plt.ylabel('Frecuencia')\n",
    "plt.title('Frecuencia de inicio de síntomas por año')\n",
    "plt.show()"
   ]
  },
  {
   "cell_type": "markdown",
   "id": "436e808f",
   "metadata": {},
   "source": [
    "<p> Aunque el inició del COVID-19 a nivel mundial como pandemia fue en 2020, la grafica muestra que el mayor pico fue al año siguiente, en 2021 </p> "
   ]
  },
  {
   "cell_type": "markdown",
   "id": "35253dd6",
   "metadata": {},
   "source": [
    "<h4> Nombre departamento </h4>"
   ]
  },
  {
   "cell_type": "code",
   "execution_count": 21,
   "id": "fc2163ab",
   "metadata": {},
   "outputs": [
    {
     "data": {
      "text/html": [
       "<div>\n",
       "<style scoped>\n",
       "    .dataframe tbody tr th:only-of-type {\n",
       "        vertical-align: middle;\n",
       "    }\n",
       "\n",
       "    .dataframe tbody tr th {\n",
       "        vertical-align: top;\n",
       "    }\n",
       "\n",
       "    .dataframe thead th {\n",
       "        text-align: right;\n",
       "    }\n",
       "</style>\n",
       "<table border=\"1\" class=\"dataframe\">\n",
       "  <thead>\n",
       "    <tr style=\"text-align: right;\">\n",
       "      <th></th>\n",
       "      <th>Departamento</th>\n",
       "      <th>cant_casos</th>\n",
       "      <th>%</th>\n",
       "    </tr>\n",
       "  </thead>\n",
       "  <tbody>\n",
       "    <tr>\n",
       "      <th>0</th>\n",
       "      <td>BOGOTA</td>\n",
       "      <td>1888137</td>\n",
       "      <td>29.543820</td>\n",
       "    </tr>\n",
       "    <tr>\n",
       "      <th>1</th>\n",
       "      <td>ANTIOQUIA</td>\n",
       "      <td>955271</td>\n",
       "      <td>14.947197</td>\n",
       "    </tr>\n",
       "    <tr>\n",
       "      <th>2</th>\n",
       "      <td>VALLE</td>\n",
       "      <td>572724</td>\n",
       "      <td>8.961455</td>\n",
       "    </tr>\n",
       "    <tr>\n",
       "      <th>3</th>\n",
       "      <td>CUNDINAMARCA</td>\n",
       "      <td>331331</td>\n",
       "      <td>5.184361</td>\n",
       "    </tr>\n",
       "    <tr>\n",
       "      <th>4</th>\n",
       "      <td>SANTANDER</td>\n",
       "      <td>297370</td>\n",
       "      <td>4.652971</td>\n",
       "    </tr>\n",
       "    <tr>\n",
       "      <th>5</th>\n",
       "      <td>BARRANQUILLA</td>\n",
       "      <td>277989</td>\n",
       "      <td>4.349715</td>\n",
       "    </tr>\n",
       "    <tr>\n",
       "      <th>6</th>\n",
       "      <td>CARTAGENA</td>\n",
       "      <td>163526</td>\n",
       "      <td>2.558704</td>\n",
       "    </tr>\n",
       "    <tr>\n",
       "      <th>7</th>\n",
       "      <td>ATLANTICO</td>\n",
       "      <td>141072</td>\n",
       "      <td>2.207364</td>\n",
       "    </tr>\n",
       "    <tr>\n",
       "      <th>8</th>\n",
       "      <td>BOYACA</td>\n",
       "      <td>131133</td>\n",
       "      <td>2.051848</td>\n",
       "    </tr>\n",
       "    <tr>\n",
       "      <th>9</th>\n",
       "      <td>TOLIMA</td>\n",
       "      <td>127764</td>\n",
       "      <td>1.999133</td>\n",
       "    </tr>\n",
       "    <tr>\n",
       "      <th>10</th>\n",
       "      <td>NORTE SANTANDER</td>\n",
       "      <td>126015</td>\n",
       "      <td>1.971766</td>\n",
       "    </tr>\n",
       "    <tr>\n",
       "      <th>11</th>\n",
       "      <td>CORDOBA</td>\n",
       "      <td>123095</td>\n",
       "      <td>1.926077</td>\n",
       "    </tr>\n",
       "    <tr>\n",
       "      <th>12</th>\n",
       "      <td>CALDAS</td>\n",
       "      <td>120029</td>\n",
       "      <td>1.878103</td>\n",
       "    </tr>\n",
       "    <tr>\n",
       "      <th>13</th>\n",
       "      <td>RISARALDA</td>\n",
       "      <td>110235</td>\n",
       "      <td>1.724855</td>\n",
       "    </tr>\n",
       "    <tr>\n",
       "      <th>14</th>\n",
       "      <td>CESAR</td>\n",
       "      <td>109830</td>\n",
       "      <td>1.718518</td>\n",
       "    </tr>\n",
       "    <tr>\n",
       "      <th>15</th>\n",
       "      <td>NARIÑO</td>\n",
       "      <td>108967</td>\n",
       "      <td>1.705015</td>\n",
       "    </tr>\n",
       "    <tr>\n",
       "      <th>16</th>\n",
       "      <td>META</td>\n",
       "      <td>108194</td>\n",
       "      <td>1.692920</td>\n",
       "    </tr>\n",
       "    <tr>\n",
       "      <th>17</th>\n",
       "      <td>HUILA</td>\n",
       "      <td>103578</td>\n",
       "      <td>1.620693</td>\n",
       "    </tr>\n",
       "    <tr>\n",
       "      <th>18</th>\n",
       "      <td>STA MARTA D.E.</td>\n",
       "      <td>84863</td>\n",
       "      <td>1.327858</td>\n",
       "    </tr>\n",
       "    <tr>\n",
       "      <th>19</th>\n",
       "      <td>CAUCA</td>\n",
       "      <td>77337</td>\n",
       "      <td>1.210098</td>\n",
       "    </tr>\n",
       "    <tr>\n",
       "      <th>20</th>\n",
       "      <td>QUINDIO</td>\n",
       "      <td>73290</td>\n",
       "      <td>1.146774</td>\n",
       "    </tr>\n",
       "    <tr>\n",
       "      <th>21</th>\n",
       "      <td>SUCRE</td>\n",
       "      <td>67471</td>\n",
       "      <td>1.055724</td>\n",
       "    </tr>\n",
       "    <tr>\n",
       "      <th>22</th>\n",
       "      <td>GUAJIRA</td>\n",
       "      <td>58353</td>\n",
       "      <td>0.913054</td>\n",
       "    </tr>\n",
       "    <tr>\n",
       "      <th>23</th>\n",
       "      <td>CASANARE</td>\n",
       "      <td>43302</td>\n",
       "      <td>0.677550</td>\n",
       "    </tr>\n",
       "    <tr>\n",
       "      <th>24</th>\n",
       "      <td>BOLIVAR</td>\n",
       "      <td>40336</td>\n",
       "      <td>0.631140</td>\n",
       "    </tr>\n",
       "    <tr>\n",
       "      <th>25</th>\n",
       "      <td>MAGDALENA</td>\n",
       "      <td>33165</td>\n",
       "      <td>0.518935</td>\n",
       "    </tr>\n",
       "    <tr>\n",
       "      <th>26</th>\n",
       "      <td>CAQUETA</td>\n",
       "      <td>25750</td>\n",
       "      <td>0.402912</td>\n",
       "    </tr>\n",
       "    <tr>\n",
       "      <th>27</th>\n",
       "      <td>PUTUMAYO</td>\n",
       "      <td>22142</td>\n",
       "      <td>0.346458</td>\n",
       "    </tr>\n",
       "    <tr>\n",
       "      <th>28</th>\n",
       "      <td>CHOCO</td>\n",
       "      <td>18907</td>\n",
       "      <td>0.295839</td>\n",
       "    </tr>\n",
       "    <tr>\n",
       "      <th>29</th>\n",
       "      <td>ARAUCA</td>\n",
       "      <td>17387</td>\n",
       "      <td>0.272056</td>\n",
       "    </tr>\n",
       "    <tr>\n",
       "      <th>30</th>\n",
       "      <td>SAN ANDRES</td>\n",
       "      <td>10402</td>\n",
       "      <td>0.162761</td>\n",
       "    </tr>\n",
       "    <tr>\n",
       "      <th>31</th>\n",
       "      <td>AMAZONAS</td>\n",
       "      <td>7879</td>\n",
       "      <td>0.123283</td>\n",
       "    </tr>\n",
       "    <tr>\n",
       "      <th>32</th>\n",
       "      <td>GUAVIARE</td>\n",
       "      <td>5692</td>\n",
       "      <td>0.089063</td>\n",
       "    </tr>\n",
       "    <tr>\n",
       "      <th>33</th>\n",
       "      <td>VICHADA</td>\n",
       "      <td>3496</td>\n",
       "      <td>0.054702</td>\n",
       "    </tr>\n",
       "    <tr>\n",
       "      <th>34</th>\n",
       "      <td>GUAINIA</td>\n",
       "      <td>2795</td>\n",
       "      <td>0.043734</td>\n",
       "    </tr>\n",
       "    <tr>\n",
       "      <th>35</th>\n",
       "      <td>VAUPES</td>\n",
       "      <td>1972</td>\n",
       "      <td>0.030856</td>\n",
       "    </tr>\n",
       "    <tr>\n",
       "      <th>36</th>\n",
       "      <td>Santander</td>\n",
       "      <td>162</td>\n",
       "      <td>0.002535</td>\n",
       "    </tr>\n",
       "    <tr>\n",
       "      <th>37</th>\n",
       "      <td>Cundinamarca</td>\n",
       "      <td>7</td>\n",
       "      <td>0.000110</td>\n",
       "    </tr>\n",
       "    <tr>\n",
       "      <th>38</th>\n",
       "      <td>Caldas</td>\n",
       "      <td>1</td>\n",
       "      <td>0.000016</td>\n",
       "    </tr>\n",
       "    <tr>\n",
       "      <th>39</th>\n",
       "      <td>Tolima</td>\n",
       "      <td>1</td>\n",
       "      <td>0.000016</td>\n",
       "    </tr>\n",
       "    <tr>\n",
       "      <th>40</th>\n",
       "      <td>Putumayo</td>\n",
       "      <td>1</td>\n",
       "      <td>0.000016</td>\n",
       "    </tr>\n",
       "  </tbody>\n",
       "</table>\n",
       "</div>"
      ],
      "text/plain": [
       "       Departamento  cant_casos          %\n",
       "0            BOGOTA     1888137  29.543820\n",
       "1         ANTIOQUIA      955271  14.947197\n",
       "2             VALLE      572724   8.961455\n",
       "3      CUNDINAMARCA      331331   5.184361\n",
       "4         SANTANDER      297370   4.652971\n",
       "5      BARRANQUILLA      277989   4.349715\n",
       "6         CARTAGENA      163526   2.558704\n",
       "7         ATLANTICO      141072   2.207364\n",
       "8            BOYACA      131133   2.051848\n",
       "9            TOLIMA      127764   1.999133\n",
       "10  NORTE SANTANDER      126015   1.971766\n",
       "11          CORDOBA      123095   1.926077\n",
       "12           CALDAS      120029   1.878103\n",
       "13        RISARALDA      110235   1.724855\n",
       "14            CESAR      109830   1.718518\n",
       "15           NARIÑO      108967   1.705015\n",
       "16             META      108194   1.692920\n",
       "17            HUILA      103578   1.620693\n",
       "18   STA MARTA D.E.       84863   1.327858\n",
       "19            CAUCA       77337   1.210098\n",
       "20          QUINDIO       73290   1.146774\n",
       "21            SUCRE       67471   1.055724\n",
       "22          GUAJIRA       58353   0.913054\n",
       "23         CASANARE       43302   0.677550\n",
       "24          BOLIVAR       40336   0.631140\n",
       "25        MAGDALENA       33165   0.518935\n",
       "26          CAQUETA       25750   0.402912\n",
       "27         PUTUMAYO       22142   0.346458\n",
       "28            CHOCO       18907   0.295839\n",
       "29           ARAUCA       17387   0.272056\n",
       "30       SAN ANDRES       10402   0.162761\n",
       "31         AMAZONAS        7879   0.123283\n",
       "32         GUAVIARE        5692   0.089063\n",
       "33          VICHADA        3496   0.054702\n",
       "34          GUAINIA        2795   0.043734\n",
       "35           VAUPES        1972   0.030856\n",
       "36        Santander         162   0.002535\n",
       "37     Cundinamarca           7   0.000110\n",
       "38           Caldas           1   0.000016\n",
       "39           Tolima           1   0.000016\n",
       "40         Putumayo           1   0.000016"
      ]
     },
     "execution_count": 21,
     "metadata": {},
     "output_type": "execute_result"
    }
   ],
   "source": [
    "tabla_frecuencia = df['Nombre departamento'].value_counts().reset_index()\n",
    "tabla_frecuencia.columns = ['Departamento', 'cant_casos']\n",
    "tabla_frecuencia['%'] = (tabla_frecuencia['cant_casos'] / tabla_frecuencia['cant_casos'].sum()) * 100\n",
    "tabla_frecuencia"
   ]
  },
  {
   "cell_type": "markdown",
   "id": "6f40b78b",
   "metadata": {},
   "source": [
    "<h4> Nombre municipio </h4>"
   ]
  },
  {
   "cell_type": "code",
   "execution_count": 22,
   "id": "581a2817",
   "metadata": {},
   "outputs": [
    {
     "data": {
      "text/html": [
       "<div>\n",
       "<style scoped>\n",
       "    .dataframe tbody tr th:only-of-type {\n",
       "        vertical-align: middle;\n",
       "    }\n",
       "\n",
       "    .dataframe tbody tr th {\n",
       "        vertical-align: top;\n",
       "    }\n",
       "\n",
       "    .dataframe thead th {\n",
       "        text-align: right;\n",
       "    }\n",
       "</style>\n",
       "<table border=\"1\" class=\"dataframe\">\n",
       "  <thead>\n",
       "    <tr style=\"text-align: right;\">\n",
       "      <th></th>\n",
       "      <th>Municipio</th>\n",
       "      <th>cant_casos</th>\n",
       "      <th>%</th>\n",
       "    </tr>\n",
       "  </thead>\n",
       "  <tbody>\n",
       "    <tr>\n",
       "      <th>0</th>\n",
       "      <td>BOGOTA</td>\n",
       "      <td>1888137</td>\n",
       "      <td>29.543820</td>\n",
       "    </tr>\n",
       "    <tr>\n",
       "      <th>1</th>\n",
       "      <td>MEDELLIN</td>\n",
       "      <td>550790</td>\n",
       "      <td>8.618252</td>\n",
       "    </tr>\n",
       "    <tr>\n",
       "      <th>2</th>\n",
       "      <td>CALI</td>\n",
       "      <td>406751</td>\n",
       "      <td>6.364463</td>\n",
       "    </tr>\n",
       "    <tr>\n",
       "      <th>3</th>\n",
       "      <td>BARRANQUILLA</td>\n",
       "      <td>277989</td>\n",
       "      <td>4.349715</td>\n",
       "    </tr>\n",
       "    <tr>\n",
       "      <th>4</th>\n",
       "      <td>CARTAGENA</td>\n",
       "      <td>163526</td>\n",
       "      <td>2.558704</td>\n",
       "    </tr>\n",
       "    <tr>\n",
       "      <th>...</th>\n",
       "      <td>...</td>\n",
       "      <td>...</td>\n",
       "      <td>...</td>\n",
       "    </tr>\n",
       "    <tr>\n",
       "      <th>1052</th>\n",
       "      <td>barrancabermeja</td>\n",
       "      <td>1</td>\n",
       "      <td>0.000016</td>\n",
       "    </tr>\n",
       "    <tr>\n",
       "      <th>1053</th>\n",
       "      <td>puerto COLOMBIA</td>\n",
       "      <td>1</td>\n",
       "      <td>0.000016</td>\n",
       "    </tr>\n",
       "    <tr>\n",
       "      <th>1054</th>\n",
       "      <td>Pensilvania</td>\n",
       "      <td>1</td>\n",
       "      <td>0.000016</td>\n",
       "    </tr>\n",
       "    <tr>\n",
       "      <th>1055</th>\n",
       "      <td>Guepsa</td>\n",
       "      <td>1</td>\n",
       "      <td>0.000016</td>\n",
       "    </tr>\n",
       "    <tr>\n",
       "      <th>1056</th>\n",
       "      <td>Gameza</td>\n",
       "      <td>1</td>\n",
       "      <td>0.000016</td>\n",
       "    </tr>\n",
       "  </tbody>\n",
       "</table>\n",
       "<p>1057 rows × 3 columns</p>\n",
       "</div>"
      ],
      "text/plain": [
       "            Municipio  cant_casos          %\n",
       "0              BOGOTA     1888137  29.543820\n",
       "1            MEDELLIN      550790   8.618252\n",
       "2                CALI      406751   6.364463\n",
       "3        BARRANQUILLA      277989   4.349715\n",
       "4           CARTAGENA      163526   2.558704\n",
       "...               ...         ...        ...\n",
       "1052  barrancabermeja           1   0.000016\n",
       "1053  puerto COLOMBIA           1   0.000016\n",
       "1054      Pensilvania           1   0.000016\n",
       "1055           Guepsa           1   0.000016\n",
       "1056           Gameza           1   0.000016\n",
       "\n",
       "[1057 rows x 3 columns]"
      ]
     },
     "execution_count": 22,
     "metadata": {},
     "output_type": "execute_result"
    }
   ],
   "source": [
    "tabla_municipio = df['Nombre municipio'].value_counts().reset_index()\n",
    "tabla_municipio.columns = ['Municipio', 'cant_casos']\n",
    "tabla_municipio['%'] = (tabla_municipio['cant_casos'] / tabla_municipio['cant_casos'].sum()) * 100\n",
    "tabla_municipio"
   ]
  },
  {
   "cell_type": "markdown",
   "id": "330d9924",
   "metadata": {},
   "source": [
    "<h4> Edad </h4>"
   ]
  },
  {
   "cell_type": "code",
   "execution_count": 23,
   "id": "94310e6a",
   "metadata": {},
   "outputs": [
    {
     "data": {
      "text/plain": [
       "count    6.390971e+06\n",
       "mean     3.998171e+01\n",
       "std      1.847426e+01\n",
       "min      1.000000e+00\n",
       "25%      2.700000e+01\n",
       "50%      3.800000e+01\n",
       "75%      5.300000e+01\n",
       "max      1.140000e+02\n",
       "Name: Edad, dtype: float64"
      ]
     },
     "execution_count": 23,
     "metadata": {},
     "output_type": "execute_result"
    }
   ],
   "source": [
    "# Estadísticas descriptivas\n",
    "df['Edad'].describe()"
   ]
  },
  {
   "cell_type": "code",
   "execution_count": 24,
   "id": "6fb67d80",
   "metadata": {
    "scrolled": true
   },
   "outputs": [
    {
     "data": {
      "image/png": "[encoded data removed]",
      "text/plain": [
       "<Figure size 640x480 with 1 Axes>"
      ]
     },
     "metadata": {},
     "output_type": "display_data"
    }
   ],
   "source": [
    "plt.boxplot(df['Edad'])\n",
    "plt.ylabel('Edad')\n",
    "plt.title('Boxplot de Edad')\n",
    "plt.show()"
   ]
  },
  {
   "cell_type": "code",
   "execution_count": 25,
   "id": "e025aa20",
   "metadata": {
    "scrolled": true
   },
   "outputs": [
    {
     "data": {
      "image/png": "[encoded data removed]",
      "text/plain": [
       "<Figure size 640x480 with 1 Axes>"
      ]
     },
     "metadata": {},
     "output_type": "display_data"
    }
   ],
   "source": [
    "plt.hist(df['Edad'], bins=10)\n",
    "plt.xlabel('Edad')\n",
    "plt.ylabel('Frecuencia')\n",
    "plt.title('Histograma de Edad')\n",
    "plt.show()"
   ]
  },
  {
   "cell_type": "markdown",
   "id": "0fdb9380",
   "metadata": {},
   "source": [
    "<p> El rango de edades en el conjunto de datos es bastante amplio, desde aproximadamente 0 años hasta más de 100 años.Hay una cantidad significativa de valores atípicos, especialmente en la parte superior del rango de edad. Estos valores atípicos podrían corresponder a personas de edad muy avanzada. La mediana de edad se encuentra alrededor de los 40 años, lo que indica que la mitad de la población tiene 40 años o menos. La distribución de las edades no parece ser simétrica. La cola derecha de la distribución (valores mayores a la mediana) es más larga que la cola izquierda, lo que indica una asimetría positiva. Esto significa que hay más personas con edades mayores que la mediana en comparación con las personas con edades menores.</p>"
   ]
  },
  {
   "cell_type": "markdown",
   "id": "57f5073d",
   "metadata": {},
   "source": [
    "<h4> Sexo </h4>"
   ]
  },
  {
   "cell_type": "code",
   "execution_count": 26,
   "id": "0c4f932c",
   "metadata": {},
   "outputs": [
    {
     "data": {
      "image/png": "[encoded data removed]",
      "text/plain": [
       "<Figure size 640x480 with 1 Axes>"
      ]
     },
     "metadata": {},
     "output_type": "display_data"
    }
   ],
   "source": [
    "conteo_sexos = df['Sexo'].value_counts()\n",
    "plt.pie(conteo_sexos, labels=conteo_sexos.index, autopct='%1.1f%%')\n",
    "plt.title('Distribución por Sexo')\n",
    "plt.show()"
   ]
  },
  {
   "cell_type": "markdown",
   "id": "e782cb89",
   "metadata": {},
   "source": [
    "<h4> Tipo de contagio </h4>"
   ]
  },
  {
   "cell_type": "code",
   "execution_count": 27,
   "id": "bbe16802",
   "metadata": {},
   "outputs": [
    {
     "data": {
      "image/png": "[encoded data removed]",
      "text/plain": [
       "<Figure size 640x480 with 1 Axes>"
      ]
     },
     "metadata": {},
     "output_type": "display_data"
    }
   ],
   "source": [
    "conteo_contagios = df['Tipo de contagio'].value_counts()\n",
    "plt.barh(conteo_contagios.index, conteo_contagios)\n",
    "plt.xlabel('Cantidad')\n",
    "plt.ylabel('Tipo de contagio')\n",
    "plt.title('Distribución de Tipos de Contagio')\n",
    "plt.show()"
   ]
  },
  {
   "cell_type": "markdown",
   "id": "8f3f2103",
   "metadata": {},
   "source": [
    "<h4> Ubicación del caso </h4>"
   ]
  },
  {
   "cell_type": "code",
   "execution_count": 28,
   "id": "47062bed",
   "metadata": {},
   "outputs": [
    {
     "name": "stderr",
     "output_type": "stream",
     "text": [
      "C:\\Users\\chech\\AppData\\Local\\Temp\\ipykernel_18748\\3425773985.py:1: SettingWithCopyWarning: \n",
      "A value is trying to be set on a copy of a slice from a DataFrame.\n",
      "Try using .loc[row_indexer,col_indexer] = value instead\n",
      "\n",
      "See the caveats in the documentation: https://pandas.pydata.org/pandas-docs/stable/user_guide/indexing.html#returning-a-view-versus-a-copy\n",
      "  df['Ubicación del caso'] = df['Ubicación del caso'].str.lower()\n"
     ]
    },
    {
     "data": {
      "image/png": "[encoded data removed]",
      "text/plain": [
       "<Figure size 640x480 with 1 Axes>"
      ]
     },
     "metadata": {},
     "output_type": "display_data"
    }
   ],
   "source": [
    "df['Ubicación del caso'] = df['Ubicación del caso'].str.lower()\n",
    "conteo_ubicaciones = df['Ubicación del caso'].value_counts()\n",
    "\n",
    "# Crear el gráfico de barras horizontales\n",
    "plt.barh(conteo_ubicaciones.index, conteo_ubicaciones)\n",
    "\n",
    "# Agregar etiquetas a cada barra\n",
    "for i, v in enumerate(conteo_ubicaciones):\n",
    "    plt.text(v + 0.2, i, str(v), color='blue', fontweight='bold')\n",
    "\n",
    "plt.xlabel('Cantidad de casos')\n",
    "plt.ylabel('Ubicación del caso')\n",
    "plt.title('Distribución de casos por ubicación')\n",
    "plt.show()"
   ]
  },
  {
   "cell_type": "markdown",
   "id": "79e8fa30",
   "metadata": {},
   "source": [
    "<h4> Estado </h4>"
   ]
  },
  {
   "cell_type": "code",
   "execution_count": 29,
   "id": "fb622c1f",
   "metadata": {},
   "outputs": [
    {
     "name": "stderr",
     "output_type": "stream",
     "text": [
      "C:\\Users\\chech\\AppData\\Local\\Temp\\ipykernel_18748\\1616653978.py:1: SettingWithCopyWarning: \n",
      "A value is trying to be set on a copy of a slice from a DataFrame.\n",
      "Try using .loc[row_indexer,col_indexer] = value instead\n",
      "\n",
      "See the caveats in the documentation: https://pandas.pydata.org/pandas-docs/stable/user_guide/indexing.html#returning-a-view-versus-a-copy\n",
      "  df['Estado'] = df['Estado'].str.lower()\n"
     ]
    },
    {
     "data": {
      "image/png": "[encoded data removed]",
      "text/plain": [
       "<Figure size 640x480 with 1 Axes>"
      ]
     },
     "metadata": {},
     "output_type": "display_data"
    }
   ],
   "source": [
    "df['Estado'] = df['Estado'].str.lower()\n",
    "conteo_estado = df['Estado'].value_counts()\n",
    "\n",
    "# Crear el gráfico de barras horizontales\n",
    "plt.barh(conteo_estado.index, conteo_estado)\n",
    "\n",
    "# Agregar etiquetas a cada barra\n",
    "for i, v in enumerate(conteo_estado):\n",
    "    plt.text(v + 0.2, i, str(v), color='blue', fontweight='bold')\n",
    "\n",
    "plt.xlabel('Cantidad de casos')\n",
    "plt.ylabel('Estado del caso')\n",
    "plt.title('Distribución de casos por Estado')\n",
    "plt.show()"
   ]
  },
  {
   "cell_type": "markdown",
   "id": "bc848e78",
   "metadata": {},
   "source": [
    "<h4> Recuperado </h4>"
   ]
  },
  {
   "cell_type": "code",
   "execution_count": 30,
   "id": "a4c314aa",
   "metadata": {},
   "outputs": [
    {
     "name": "stderr",
     "output_type": "stream",
     "text": [
      "C:\\Users\\chech\\AppData\\Local\\Temp\\ipykernel_18748\\3379591364.py:1: SettingWithCopyWarning: \n",
      "A value is trying to be set on a copy of a slice from a DataFrame.\n",
      "Try using .loc[row_indexer,col_indexer] = value instead\n",
      "\n",
      "See the caveats in the documentation: https://pandas.pydata.org/pandas-docs/stable/user_guide/indexing.html#returning-a-view-versus-a-copy\n",
      "  df['Recuperado'] = df['Recuperado'].str.lower()\n"
     ]
    },
    {
     "data": {
      "image/png": "[encoded data removed]",
      "text/plain": [
       "<Figure size 640x480 with 1 Axes>"
      ]
     },
     "metadata": {},
     "output_type": "display_data"
    }
   ],
   "source": [
    "df['Recuperado'] = df['Recuperado'].str.lower()\n",
    "conteo_recuperados = df['Recuperado'].value_counts()\n",
    "plt.bar(conteo_recuperados.index, conteo_recuperados)\n",
    "\n",
    "# Agregar etiquetas a cada barra\n",
    "for i, v in enumerate(conteo_recuperados):\n",
    "    plt.text(i, v, str(v), ha='center', va='bottom')\n",
    "\n",
    "plt.xlabel('Valor de Recuperado')\n",
    "plt.ylabel('Cantidad')\n",
    "plt.title('Distribución de casos recuperados')\n",
    "plt.xticks(rotation=45)\n",
    "plt.show()"
   ]
  },
  {
   "cell_type": "markdown",
   "id": "7fe2ebeb",
   "metadata": {},
   "source": [
    "<h4> Tipo de recuperación </h4>"
   ]
  },
  {
   "cell_type": "code",
   "execution_count": 31,
   "id": "b0294714",
   "metadata": {},
   "outputs": [
    {
     "data": {
      "image/png": "[encoded data removed]",
      "text/plain": [
       "<Figure size 640x480 with 1 Axes>"
      ]
     },
     "metadata": {},
     "output_type": "display_data"
    }
   ],
   "source": [
    "conteo_recuperacion = df['Tipo de recuperación'].value_counts()\n",
    "\n",
    "# Crear el gráfico de torta\n",
    "plt.pie(conteo_recuperacion, labels=conteo_recuperacion.index, autopct='%1.1f%%')\n",
    "plt.title('Distribución de tipos de recuperación')\n",
    "plt.show()"
   ]
  },
  {
   "cell_type": "markdown",
   "id": "52ecf1c6",
   "metadata": {},
   "source": [
    "<h4> Nombre del grupo étnico </h4>"
   ]
  },
  {
   "cell_type": "code",
   "execution_count": 32,
   "id": "c4569067",
   "metadata": {},
   "outputs": [
    {
     "data": {
      "text/html": [
       "<div>\n",
       "<style scoped>\n",
       "    .dataframe tbody tr th:only-of-type {\n",
       "        vertical-align: middle;\n",
       "    }\n",
       "\n",
       "    .dataframe tbody tr th {\n",
       "        vertical-align: top;\n",
       "    }\n",
       "\n",
       "    .dataframe thead th {\n",
       "        text-align: right;\n",
       "    }\n",
       "</style>\n",
       "<table border=\"1\" class=\"dataframe\">\n",
       "  <thead>\n",
       "    <tr style=\"text-align: right;\">\n",
       "      <th></th>\n",
       "      <th>Nombre del grupo étnico</th>\n",
       "      <th>Cantidad</th>\n",
       "      <th>%</th>\n",
       "    </tr>\n",
       "  </thead>\n",
       "  <tbody>\n",
       "    <tr>\n",
       "      <th>0</th>\n",
       "      <td>por definir</td>\n",
       "      <td>17373</td>\n",
       "      <td>20.72</td>\n",
       "    </tr>\n",
       "    <tr>\n",
       "      <th>1</th>\n",
       "      <td>sin comunidad</td>\n",
       "      <td>12160</td>\n",
       "      <td>14.50</td>\n",
       "    </tr>\n",
       "    <tr>\n",
       "      <th>2</th>\n",
       "      <td>zenu</td>\n",
       "      <td>9264</td>\n",
       "      <td>11.05</td>\n",
       "    </tr>\n",
       "    <tr>\n",
       "      <th>3</th>\n",
       "      <td>pijao</td>\n",
       "      <td>4112</td>\n",
       "      <td>4.90</td>\n",
       "    </tr>\n",
       "    <tr>\n",
       "      <th>4</th>\n",
       "      <td>wayuu</td>\n",
       "      <td>2813</td>\n",
       "      <td>3.35</td>\n",
       "    </tr>\n",
       "    <tr>\n",
       "      <th>...</th>\n",
       "      <td>...</td>\n",
       "      <td>...</td>\n",
       "      <td>...</td>\n",
       "    </tr>\n",
       "    <tr>\n",
       "      <th>1874</th>\n",
       "      <td>agua clara</td>\n",
       "      <td>1</td>\n",
       "      <td>0.00</td>\n",
       "    </tr>\n",
       "    <tr>\n",
       "      <th>1875</th>\n",
       "      <td>purraneramana</td>\n",
       "      <td>1</td>\n",
       "      <td>0.00</td>\n",
       "    </tr>\n",
       "    <tr>\n",
       "      <th>1876</th>\n",
       "      <td>kaiwarraimana (sector poportin- corregimiento ...</td>\n",
       "      <td>1</td>\n",
       "      <td>0.00</td>\n",
       "    </tr>\n",
       "    <tr>\n",
       "      <th>1877</th>\n",
       "      <td>punta tigre</td>\n",
       "      <td>1</td>\n",
       "      <td>0.00</td>\n",
       "    </tr>\n",
       "    <tr>\n",
       "      <th>1878</th>\n",
       "      <td>mashalerrain</td>\n",
       "      <td>1</td>\n",
       "      <td>0.00</td>\n",
       "    </tr>\n",
       "  </tbody>\n",
       "</table>\n",
       "<p>1879 rows × 3 columns</p>\n",
       "</div>"
      ],
      "text/plain": [
       "                                Nombre del grupo étnico  Cantidad      %\n",
       "0                                           por definir     17373  20.72\n",
       "1                                         sin comunidad     12160  14.50\n",
       "2                                                  zenu      9264  11.05\n",
       "3                                                 pijao      4112   4.90\n",
       "4                                                 wayuu      2813   3.35\n",
       "...                                                 ...       ...    ...\n",
       "1874                                         agua clara         1   0.00\n",
       "1875                                      purraneramana         1   0.00\n",
       "1876  kaiwarraimana (sector poportin- corregimiento ...         1   0.00\n",
       "1877                                        punta tigre         1   0.00\n",
       "1878                                       mashalerrain         1   0.00\n",
       "\n",
       "[1879 rows x 3 columns]"
      ]
     },
     "execution_count": 32,
     "metadata": {},
     "output_type": "execute_result"
    }
   ],
   "source": [
    "conteo_grupos = df['Nombre del grupo étnico'].value_counts()\n",
    "\n",
    "tabla_frecuencias = pd.DataFrame({'Nombre del grupo étnico': conteo_grupos.index,\n",
    "                                  'Cantidad': conteo_grupos.values})\n",
    "tabla_frecuencias['%'] = (tabla_frecuencias['Cantidad'] / tabla_frecuencias['Cantidad'].sum()) * 100\n",
    "tabla_frecuencias['%'] = tabla_frecuencias['%'].round(2)\n",
    "tabla_frecuencias"
   ]
  },
  {
   "cell_type": "markdown",
   "id": "d6758036",
   "metadata": {},
   "source": [
    "<h3> Análisis Estadístico Multivariado </h3>"
   ]
  },
  {
   "cell_type": "markdown",
   "id": "4052aaab",
   "metadata": {},
   "source": [
    "<h4> Analisis edad Vs Recuperado </h4>"
   ]
  },
  {
   "cell_type": "code",
   "execution_count": 33,
   "id": "a17798dc",
   "metadata": {},
   "outputs": [
    {
     "name": "stdout",
     "output_type": "stream",
     "text": [
      "Hay 36327 valores NaN en la columna 'Recuperado'.\n",
      "Los valores únicos sin NaN son: ['recuperado' 'fallecido' 'activo']\n"
     ]
    }
   ],
   "source": [
    "# Filtrar los valores no nulos\n",
    "recuperados_sin_nan = df['Recuperado'].dropna()\n",
    "\n",
    "# Contar los valores NaN\n",
    "cantidad_nan = df['Recuperado'].isna().sum()\n",
    "print(f\"Hay {cantidad_nan} valores NaN en la columna 'Recuperado'.\")\n",
    "\n",
    "valores_unicos_sin_nan = recuperados_sin_nan.unique()\n",
    "print(\"Los valores únicos sin NaN son:\", valores_unicos_sin_nan)"
   ]
  },
  {
   "cell_type": "code",
   "execution_count": 34,
   "id": "f88f36e4",
   "metadata": {},
   "outputs": [
    {
     "data": {
      "image/png": "[encoded data removed]",
      "text/plain": [
       "<Figure size 600x300 with 1 Axes>"
      ]
     },
     "metadata": {},
     "output_type": "display_data"
    },
    {
     "data": {
      "image/png": "[encoded data removed]",
      "text/plain": [
       "<Figure size 600x300 with 1 Axes>"
      ]
     },
     "metadata": {},
     "output_type": "display_data"
    },
    {
     "data": {
      "image/png": "[encoded data removed]",
      "text/plain": [
       "<Figure size 600x300 with 1 Axes>"
      ]
     },
     "metadata": {},
     "output_type": "display_data"
    }
   ],
   "source": [
    "for estado in valores_unicos_sin_nan:\n",
    "    plt.figure(figsize=(6, 3))\n",
    "    sns.boxplot(x=df[df['Recuperado'] == estado]['Edad'])\n",
    "    plt.title(f\"Distribución de edades para {estado}\")\n",
    "    plt.xlabel(\"Edad\")\n",
    "    plt.show()"
   ]
  },
  {
   "cell_type": "markdown",
   "id": "44fae672",
   "metadata": {},
   "source": [
    "<h2> Aplicación del Teorema de BAYES en el set de datos:</h2>\n",
    "<p> Para aplicar el TEOREMA DE BAYES, analizaremos las variables 'Recuperado' y 'Sexo', buscando encontrar la probabilidad de un paciente de fallecer dado el genero (Masculino o Femenino).</p> \n",
    "<p> 1. Definición de Eventos</p>\n",
    "<li> Evento A: El paciente fallece. </li>\n",
    "<li> Evento B: El paciente es de un sexo específico (masculino o femenino).</li>"
   ]
  },
  {
   "cell_type": "code",
   "execution_count": 35,
   "id": "bb3b913e",
   "metadata": {},
   "outputs": [
    {
     "name": "stderr",
     "output_type": "stream",
     "text": [
      "C:\\Users\\chech\\AppData\\Local\\Temp\\ipykernel_18748\\2887739399.py:7: SettingWithCopyWarning: \n",
      "A value is trying to be set on a copy of a slice from a DataFrame.\n",
      "Try using .loc[row_indexer,col_indexer] = value instead\n",
      "\n",
      "See the caveats in the documentation: https://pandas.pydata.org/pandas-docs/stable/user_guide/indexing.html#returning-a-view-versus-a-copy\n",
      "  bayes['fallecido_bin'] = np.where(bayes['Recuperado'] == 'fallecido', 1, 0)\n"
     ]
    }
   ],
   "source": [
    "# Eliminar filas con valores nulos en las columnas especificadas\n",
    "bayes = df[['Recuperado', 'Sexo']].dropna()\n",
    "\n",
    "bayes = df[['Recuperado', 'Sexo']]\n",
    "\n",
    "# Crear la columna 'fallecido_bin'\n",
    "bayes['fallecido_bin'] = np.where(bayes['Recuperado'] == 'fallecido', 1, 0)"
   ]
  },
  {
   "cell_type": "code",
   "execution_count": 36,
   "id": "61a197cf",
   "metadata": {},
   "outputs": [
    {
     "name": "stdout",
     "output_type": "stream",
     "text": [
      "Sexo\n",
      "f    0.016500\n",
      "m    0.029168\n",
      "Name: fallecido_bin, dtype: float64\n"
     ]
    }
   ],
   "source": [
    "probabilidades = bayes.groupby('Sexo')['fallecido_bin'].mean()\n",
    "print(probabilidades)"
   ]
  },
  {
   "cell_type": "code",
   "execution_count": 37,
   "id": "badea06b",
   "metadata": {},
   "outputs": [
    {
     "data": {
      "image/png": "[encoded data removed]",
      "text/plain": [
       "<Figure size 640x480 with 1 Axes>"
      ]
     },
     "metadata": {},
     "output_type": "display_data"
    }
   ],
   "source": [
    "probabilidades.plot(kind='pie', autopct='%1.1f%%')\n",
    "plt.title('Fallecimiento por sexo en la muestra')\n",
    "plt.ylabel('')  # Eliminamos la etiqueta del eje y en un gráfico de torta\n",
    "plt.show()"
   ]
  },
  {
   "cell_type": "markdown",
   "id": "4c511b09",
   "metadata": {},
   "source": [
    "<h3> 3. Perfilado de datos </h3>\n",
    "<p> Objetivo: Obtener una descripción detallada de las variables más representativas </p>"
   ]
  },
  {
   "cell_type": "code",
   "execution_count": 38,
   "id": "adec962b",
   "metadata": {
    "scrolled": true
   },
   "outputs": [
    {
     "data": {
      "image/png": "[encoded data removed]",
      "text/plain": [
       "<Figure size 800x500 with 1 Axes>"
      ]
     },
     "metadata": {},
     "output_type": "display_data"
    }
   ],
   "source": [
    "plt.figure(figsize=(8,5))\n",
    "sns.heatmap(df.isnull(), yticklabels=False, cbar=False, cmap='viridis')\n",
    "plt.xlabel('Columnas')\n",
    "plt.ylabel('Filas')\n",
    "plt.title('Mapa de calor de valores nulos')\n",
    "plt.show()"
   ]
  },
  {
   "cell_type": "markdown",
   "id": "deff04e3",
   "metadata": {},
   "source": [
    "<h3> Analisis set de datos: </h3>\n",
    "<p> Como analistas encargados del estudio, se determina hacer una selección de variables iniciales, las cuales de manera subjetiva y desde el conocimiento en el tema se realiza esta selección.\n",
    "El mapa de calor nos permite visualizar rápidamente la distribución de los valores nulos (o faltantes) en un conjunto de datos. En este caso, cada celda representa una combinación de una fila (una observación o registro) y una columna (una variable o característica). El color de la celda indica la presencia o ausencia de un valor en esa celda. a excepción de algun as columnas como \"fecha de muerte\" y \"grupo étnico\" las otras variables tienen suficiente información para trabajar. </p>"
   ]
  },
  {
   "cell_type": "markdown",
   "id": "87a04122",
   "metadata": {},
   "source": [
    "<h3> Interpretación relacion variables EDAD y RECUPERADO</h3>\n",
    "<p> La variable recuperado tiene los valores 'recuperado' 'fallecido' 'activo'</p>\n",
    "<ol> Distribución de edades para recuperado:\n",
    "    <li> Rango de edades: La mayoría de las personas recuperadas tienen entre 20 y 50 años, ya que la caja central se encuentra en este rango.\n",
    "    <li> Mediana: La edad mediana de las personas recuperadas se encuentra alrededor de los 40 años.\n",
    "    <li> Valores atípicos: Hay un número considerable de personas recuperadas con edades superiores a 80 años. Estos valores se consideran atípicos ya que están muy por encima del resto de los datos.\n",
    "    <li> Distribución: La distribución de las edades no es completamente simétrica, ya que el bigote superior es más largo que el inferior. Esto indica que hay más personas con edades superiores a la mediana que por debajo de ella.    \n",
    "</ol>    \n",
    "<ol> Distribución de edades para fallecido:\n",
    "    <li> Rango de edades: La mayoría de las personas fallecidas se encuentran en un rango de edad entre 60 y 80 años\n",
    "    <li> Mediana: La edad mediana de las personas fallecidas se encuentra alrededor de los 70 años\n",
    "    <li> Valores atípicos: Hay un número considerable de personas fallecidas con edades inferiores a 30 años y un caso aislado de una persona fallecida con una edad muy avanzada.\n",
    "    <li> Distribución: La distribución de las edades parece estar ligeramente sesgada hacia las edades más avanzadas, ya que el  bigote superior es un poco más largo que el inferior.    \n",
    "</ol>\n",
    "<ol> Distribución de edades para activo:\n",
    "    <li> Rango de edades: La mayoría de las personas clasificadas como \"activas\" se encuentran en un rango de edad entre 20 y 60 años\n",
    "    <li> Mediana: La edad mediana de las personas activas se ubica alrededor de los 40 años\n",
    "    <li> Valores atípicos: En este caso, no se observan valores atípicos significativos fuera de los bigotes. Esto sugiere que la distribución de las edades en este grupo es relativamente homogénea.\n",
    "    <li> Distribución: La distribución de las edades parece ser bastante simétrica, con una caja de aproximadamente la misma longitud en ambas mitades.     \n",
    "</ol>"
   ]
  },
  {
   "cell_type": "markdown",
   "id": "8ce7cb26",
   "metadata": {},
   "source": [
    "<h4> Analisis Teorema de BAYES:</h4>\n",
    "<p> P(A|B=masculino): Probabilidad de fallecer dado que es hombre = 1.65% </p>\n",
    "<p> P(A|B=femenino): Probabilidad de fallecer dado que es mujer = 2,91% </p>\n",
    "<P> Con la muestra del set de datos, de aprecia que 63.9% de los fallecidos son hombres y el 36.1% mujeres, en termios generales las probabilidades de fallecimiento dato que un paciente adquirio el covid es muy baja y si es mujer son más majas aún. </P>"
   ]
  },
  {
   "cell_type": "markdown",
   "id": "4b874b01",
   "metadata": {},
   "source": [
    "<h3> Conclusión: </h3>\n",
    "<p> Este análisis exploratorio de datos (EDA) ha revelado que, a pesar de la predominancia de datos categóricos, el conjunto de datos ofrece una base sólida para un proyecto integrado. Si bien se identificaron desafíos como la presencia de valores faltantes y la necesidad de realizar una limpieza de datos más profunda, los resultados preliminares sugieren que es posible aplicar técnicas estadísticas como el análisis bayesiano para obtener insights valiosos. Los siguientes pasos involucrarán un proceso de preparación de datos más exhaustivo (data wrangling) y la construcción de modelos predictivos o descriptivos, según los objetivos del proyecto.  </p>"
   ]
  }
 ],
 "metadata": {
  "kernelspec": {
   "display_name": "Python 3 (ipykernel)",
   "language": "python",
   "name": "python3"
  },
  "language_info": {
   "codemirror_mode": {
    "name": "ipython",
    "version": 3
   },
   "file_extension": ".py",
   "mimetype": "text/x-python",
   "name": "python",
   "nbconvert_exporter": "python",
   "pygments_lexer": "ipython3",
   "version": "3.10.9"
  }
 },
 "nbformat": 4,
 "nbformat_minor": 5
}
